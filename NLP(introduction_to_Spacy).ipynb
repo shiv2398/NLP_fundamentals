{
  "nbformat": 4,
  "nbformat_minor": 0,
  "metadata": {
    "colab": {
      "name": "NLP(introduction_to_Spacy).ipynb",
      "provenance": []
    },
    "kernelspec": {
      "name": "python3",
      "display_name": "Python 3"
    },
    "language_info": {
      "name": "python"
    }
  },
  "cells": [
    {
      "cell_type": "code",
      "metadata": {
        "id": "ldTFZeU-O2Mo"
      },
      "source": [
        "#import the English language class\n",
        "from spacy.lang.en import English "
      ],
      "execution_count": 2,
      "outputs": []
    },
    {
      "cell_type": "code",
      "metadata": {
        "id": "1ZMMMLPuPjCc"
      },
      "source": [
        "#create the nlp object\n",
        "nlp=English()"
      ],
      "execution_count": 6,
      "outputs": []
    },
    {
      "cell_type": "code",
      "metadata": {
        "id": "k4SCm2ybPsM7"
      },
      "source": [
        "#process a text(got a doc object)\n",
        "doc=nlp(\"this is a sentence\")"
      ],
      "execution_count": 4,
      "outputs": []
    },
    {
      "cell_type": "code",
      "metadata": {
        "colab": {
          "base_uri": "https://localhost:8080/"
        },
        "id": "bxNDvaBPP2Hg",
        "outputId": "5d59f7dc-be8b-4233-d945-0916a88f69e3"
      },
      "source": [
        "#print the document text\n",
        "print(doc.text)"
      ],
      "execution_count": 7,
      "outputs": [
        {
          "output_type": "stream",
          "text": [
            "this is a sentence\n"
          ],
          "name": "stdout"
        }
      ]
    },
    {
      "cell_type": "markdown",
      "metadata": {
        "id": "GEtyOz50Roe9"
      },
      "source": [
        "Document,spans and Tokens\n"
      ]
    },
    {
      "cell_type": "code",
      "metadata": {
        "colab": {
          "base_uri": "https://localhost:8080/"
        },
        "id": "7XdQfSlURwGq",
        "outputId": "cd688e17-6eaf-4e59-d7b6-c1861d6b7b9f"
      },
      "source": [
        "#import english language class and create the nlp-object \n",
        "from spacy.lang.en import English\n",
        "nlp=English()\n",
        "doc=(\"I like juicy apples and raw mangoes\")\n",
        "print(doc)"
      ],
      "execution_count": 20,
      "outputs": [
        {
          "output_type": "stream",
          "text": [
            "I like juicy apples and raw mangoes\n"
          ],
          "name": "stdout"
        }
      ]
    },
    {
      "cell_type": "code",
      "metadata": {
        "colab": {
          "base_uri": "https://localhost:8080/"
        },
        "id": "HufZBQZeSP7R",
        "outputId": "c9c80416-8d05-4a9e-b83f-657ac678c7b8"
      },
      "source": [
        "#select the first token \n",
        "first_token=doc[0]\n",
        "#print the first token\n",
        "print(\"First word:\",first_token)\n",
        "#A slice of the Doc \n",
        "t1=doc[2:4]\n",
        "print(\"slice 2:\",t1)\n",
        "t2=doc[2:6]\n",
        "print(\"slice 2:\",t2)"
      ],
      "execution_count": 21,
      "outputs": [
        {
          "output_type": "stream",
          "text": [
            "First word: I\n",
            "slice 2: li\n",
            "slice 2: like\n"
          ],
          "name": "stdout"
        }
      ]
    },
    {
      "cell_type": "code",
      "metadata": {
        "colab": {
          "base_uri": "https://localhost:8080/"
        },
        "id": "N3pngYFiSsXO",
        "outputId": "fb4bdf0f-9b84-4621-c096-ef3ad5fbb6ce"
      },
      "source": [
        "#Extracting the patterns\n",
        "#process the text \n",
        "doc=nlp(\"In 1990 more than 60% of people in the  East Asia were in extreme poverty .Now less than 4% are \")\n",
        "#iterate over the tokens in the doc\n",
        "for token in doc:\n",
        "  #check if the token resemble a number a number using like_num token attribute\n",
        "  if token.like_num:\n",
        "  #get the next token in the document\n",
        "  #the next index of the next token  in the doc is token.i+1\n",
        "      next_token=doc[token.i+1]\n",
        "      if next_token.text ==\"%\":\n",
        "        print(f\"Percentage found:{token.text}%\")  \n",
        "\n"
      ],
      "execution_count": 23,
      "outputs": [
        {
          "output_type": "stream",
          "text": [
            "Percentage found:60%\n",
            "Percentage found:4%\n"
          ],
          "name": "stdout"
        }
      ]
    },
    {
      "cell_type": "code",
      "metadata": {
        "id": "Jk4cwWI6XvO3"
      },
      "source": [
        "#predicting Linguistic annotation"
      ],
      "execution_count": 25,
      "outputs": []
    },
    {
      "cell_type": "code",
      "metadata": {
        "colab": {
          "base_uri": "https://localhost:8080/"
        },
        "id": "ZKCWBzmnYDWR",
        "outputId": "a1d22343-4c30-46ec-c0ad-35a6bcb900b8"
      },
      "source": [
        "import spacy\n",
        "#1.Loading the language library \n",
        "nlp=spacy.load(\"en_core_web_sm\")\n",
        "#2.Building a pipeline Object\n",
        "doc=nlp(u'''\n",
        "Tesla will start cars in India next year ,government says .\n",
        "Elon Musk (Ceo of tesla ) is now the richest men in the world ''')\n",
        "#3.Using Tokens\n",
        "for token in doc :\n",
        "  print(f\"{token.text:{12}}{token.pos_:{12}}{token.dep_:{12}}{token.lemma_}\")"
      ],
      "execution_count": 30,
      "outputs": [
        {
          "output_type": "stream",
          "text": [
            "\n",
            "           SPACE                   \n",
            "\n",
            "Tesla       PROPN       nsubj       Tesla\n",
            "will        VERB        aux         will\n",
            "start       VERB        ccomp       start\n",
            "cars        NOUN        dobj        car\n",
            "in          ADP         prep        in\n",
            "India       PROPN       pobj        India\n",
            "next        ADJ         amod        next\n",
            "year        NOUN        npadvmod    year\n",
            ",           PUNCT       punct       ,\n",
            "government  NOUN        nsubj       government\n",
            "says        VERB        ROOT        say\n",
            ".           PUNCT       punct       .\n",
            "\n",
            "           SPACE                   \n",
            "\n",
            "Elon        PROPN       compound    Elon\n",
            "Mask        PROPN       nsubj       Mask\n",
            "(           PUNCT       punct       (\n",
            "Ceo         PROPN       appos       Ceo\n",
            "of          ADP         prep        of\n",
            "tesla       PROPN       pobj        tesla\n",
            ")           PUNCT       punct       )\n",
            "is          AUX         ROOT        be\n",
            "now         ADV         advmod      now\n",
            "the         DET         det         the\n",
            "richest     ADJ         amod        rich\n",
            "men         NOUN        attr        man\n",
            "in          ADP         prep        in\n",
            "the         DET         det         the\n",
            "world       NOUN        pobj        world\n"
          ],
          "name": "stdout"
        }
      ]
    },
    {
      "cell_type": "code",
      "metadata": {
        "colab": {
          "base_uri": "https://localhost:8080/"
        },
        "id": "-3QigIsSYJM2",
        "outputId": "fa9b338e-e8f2-408d-c877-a98a10251fb5"
      },
      "source": [
        "doc\n"
      ],
      "execution_count": 31,
      "outputs": [
        {
          "output_type": "execute_result",
          "data": {
            "text/plain": [
              "\n",
              "Tesla will start cars in India next year ,government says .\n",
              "Elon Mask (Ceo of tesla ) is now the richest men in the world "
            ]
          },
          "metadata": {
            "tags": []
          },
          "execution_count": 31
        }
      ]
    },
    {
      "cell_type": "code",
      "metadata": {
        "id": "BPrMZ4vhcCGH"
      },
      "source": [
        ""
      ],
      "execution_count": null,
      "outputs": []
    },
    {
      "cell_type": "markdown",
      "metadata": {
        "id": "x5poRZFUcJYf"
      },
      "source": [
        "Part of speech Tagging(*POS*)"
      ]
    },
    {
      "cell_type": "code",
      "metadata": {
        "colab": {
          "base_uri": "https://localhost:8080/",
          "height": 35
        },
        "id": "R64hvSi0cPh_",
        "outputId": "7f24c46c-69c1-47ff-cdb3-96db5f30a5fa"
      },
      "source": [
        "doc[2].pos_"
      ],
      "execution_count": 33,
      "outputs": [
        {
          "output_type": "execute_result",
          "data": {
            "application/vnd.google.colaboratory.intrinsic+json": {
              "type": "string"
            },
            "text/plain": [
              "'VERB'"
            ]
          },
          "metadata": {
            "tags": []
          },
          "execution_count": 33
        }
      ]
    },
    {
      "cell_type": "code",
      "metadata": {
        "colab": {
          "base_uri": "https://localhost:8080/",
          "height": 35
        },
        "id": "T7LmeBt7cfsv",
        "outputId": "ae28e04a-e194-4c96-f28b-452cb231c8f1"
      },
      "source": [
        "#dependiencies\n",
        "doc[2].dep_"
      ],
      "execution_count": 34,
      "outputs": [
        {
          "output_type": "execute_result",
          "data": {
            "application/vnd.google.colaboratory.intrinsic+json": {
              "type": "string"
            },
            "text/plain": [
              "'aux'"
            ]
          },
          "metadata": {
            "tags": []
          },
          "execution_count": 34
        }
      ]
    },
    {
      "cell_type": "code",
      "metadata": {
        "colab": {
          "base_uri": "https://localhost:8080/",
          "height": 35
        },
        "id": "aa9cKkR2czyP",
        "outputId": "8ba896da-b362-4428-9220-f19d156b51d1"
      },
      "source": [
        "spacy.explain(\"nsubj\")"
      ],
      "execution_count": 35,
      "outputs": [
        {
          "output_type": "execute_result",
          "data": {
            "application/vnd.google.colaboratory.intrinsic+json": {
              "type": "string"
            },
            "text/plain": [
              "'nominal subject'"
            ]
          },
          "metadata": {
            "tags": []
          },
          "execution_count": 35
        }
      ]
    },
    {
      "cell_type": "code",
      "metadata": {
        "colab": {
          "base_uri": "https://localhost:8080/"
        },
        "id": "GOnb7pczc8Q8",
        "outputId": "6a4c041d-e4d6-4599-933a-8898dabaa4fa"
      },
      "source": [
        "#lemmitzation\n",
        "print(doc[12].text)\n",
        "print(doc[12].lemma_)"
      ],
      "execution_count": 40,
      "outputs": [
        {
          "output_type": "stream",
          "text": [
            ".\n",
            ".\n"
          ],
          "name": "stdout"
        }
      ]
    },
    {
      "cell_type": "code",
      "metadata": {
        "colab": {
          "base_uri": "https://localhost:8080/"
        },
        "id": "eTdCpnPKdWjp",
        "outputId": "d70e6ee2-f6cb-4464-b029-37c35b7dd4b3"
      },
      "source": [
        "#Detailed tag \n",
        "#simple part of speech & detailed Tags\n",
        "print(doc[12].pos_)\n",
        "print(doc[12].tag_ +'/'+spacy.explain(doc[12].tag_))"
      ],
      "execution_count": 42,
      "outputs": [
        {
          "output_type": "stream",
          "text": [
            "PUNCT\n",
            "./punctuation mark, sentence closer\n"
          ],
          "name": "stdout"
        }
      ]
    },
    {
      "cell_type": "code",
      "metadata": {
        "colab": {
          "base_uri": "https://localhost:8080/"
        },
        "id": "1y2pqRm_eLX_",
        "outputId": "2dfd3ec4-dab6-4ba2-91bb-d03d9d3fcd72"
      },
      "source": [
        "#Boolean Values \n",
        "print(doc[15].is_alpha)\n",
        "print(doc[15].is_stop)"
      ],
      "execution_count": 43,
      "outputs": [
        {
          "output_type": "stream",
          "text": [
            "True\n",
            "False\n"
          ],
          "name": "stdout"
        }
      ]
    },
    {
      "cell_type": "code",
      "metadata": {
        "colab": {
          "base_uri": "https://localhost:8080/"
        },
        "id": "edxBQbtgehvk",
        "outputId": "d09267a4-582b-47ef-9a0c-55c4920e887b"
      },
      "source": [
        "nlp.pipeline"
      ],
      "execution_count": 44,
      "outputs": [
        {
          "output_type": "execute_result",
          "data": {
            "text/plain": [
              "[('tagger', <spacy.pipeline.pipes.Tagger at 0x7f332d928890>),\n",
              " ('parser', <spacy.pipeline.pipes.DependencyParser at 0x7f332ed798a0>),\n",
              " ('ner', <spacy.pipeline.pipes.EntityRecognizer at 0x7f332da26980>)]"
            ]
          },
          "metadata": {
            "tags": []
          },
          "execution_count": 44
        }
      ]
    },
    {
      "cell_type": "code",
      "metadata": {
        "colab": {
          "base_uri": "https://localhost:8080/"
        },
        "id": "fwtILQ-oem2d",
        "outputId": "10022166-a462-4d2f-8fd1-8dbfbba5c181"
      },
      "source": [
        "nlp.pipe_names"
      ],
      "execution_count": 45,
      "outputs": [
        {
          "output_type": "execute_result",
          "data": {
            "text/plain": [
              "['tagger', 'parser', 'ner']"
            ]
          },
          "metadata": {
            "tags": []
          },
          "execution_count": 45
        }
      ]
    },
    {
      "cell_type": "markdown",
      "metadata": {
        "id": "gh24zBEzeqgA"
      },
      "source": [
        "**Spans**"
      ]
    },
    {
      "cell_type": "code",
      "metadata": {
        "id": "RdhviM-uerkZ"
      },
      "source": [
        "text=\"\"\"\n",
        "Elon musk the billionaire ceo of tesla and SpaceX,is now the richest  person in the world ,surpassing former title holder and Amazon chief jeff bezos with a net worth of $189.7 billion , according to real time billionaire  net worth estimates on jan 8 2021 at 1pm .since March ,musk's wealth has grown almost seven-fold ,up a staggeriing $163.1 billon.\"\"\"\n",
        "doc=nlp(text)\n"
      ],
      "execution_count": 48,
      "outputs": []
    },
    {
      "cell_type": "code",
      "metadata": {
        "colab": {
          "base_uri": "https://localhost:8080/"
        },
        "id": "VKomXTrzgwTN",
        "outputId": "b3bc050d-f9b9-4e62-da36-3a27598d3e5e"
      },
      "source": [
        "quote=doc[30:50]\n",
        "print(quote)\n",
        "print(type(quote))"
      ],
      "execution_count": 51,
      "outputs": [
        {
          "output_type": "stream",
          "text": [
            "with a net worth of $189.7 billion , according to real time billionaire  net worth estimates on jan\n",
            "<class 'spacy.tokens.span.Span'>\n"
          ],
          "name": "stdout"
        }
      ]
    },
    {
      "cell_type": "code",
      "metadata": {
        "id": "SPPneuLAg873"
      },
      "source": [
        ""
      ],
      "execution_count": null,
      "outputs": []
    },
    {
      "cell_type": "markdown",
      "metadata": {
        "id": "HtXX4bOxhM_P"
      },
      "source": [
        "Sentences"
      ]
    },
    {
      "cell_type": "code",
      "metadata": {
        "id": "R_zGf2jbhQ9k"
      },
      "source": [
        "doc=nlp(u\"This is the first sentence .This is another sentence .this is the another sentence\")"
      ],
      "execution_count": 52,
      "outputs": []
    },
    {
      "cell_type": "code",
      "metadata": {
        "colab": {
          "base_uri": "https://localhost:8080/"
        },
        "id": "kdiYwffwhlxU",
        "outputId": "0042bdb7-109f-4fa1-ba83-913714848114"
      },
      "source": [
        "for sent in doc.sents:\n",
        "  print(sent)"
      ],
      "execution_count": 53,
      "outputs": [
        {
          "output_type": "stream",
          "text": [
            "This is the first sentence .This\n",
            "is another sentence\n",
            ".this is the another sentence\n"
          ],
          "name": "stdout"
        }
      ]
    },
    {
      "cell_type": "code",
      "metadata": {
        "colab": {
          "base_uri": "https://localhost:8080/"
        },
        "id": "UyF1HCfMhrcx",
        "outputId": "a1aec439-552e-4f44-b78e-610f6b987046"
      },
      "source": [
        "for token in doc:\n",
        "  print(token)"
      ],
      "execution_count": 55,
      "outputs": [
        {
          "output_type": "stream",
          "text": [
            "This\n",
            "is\n",
            "the\n",
            "first\n",
            "sentence\n",
            ".This\n",
            "is\n",
            "another\n",
            "sentence\n",
            ".this\n",
            "is\n",
            "the\n",
            "another\n",
            "sentence\n"
          ],
          "name": "stdout"
        }
      ]
    },
    {
      "cell_type": "code",
      "metadata": {
        "id": "Ttnxiq_0h53x"
      },
      "source": [
        ""
      ],
      "execution_count": null,
      "outputs": []
    },
    {
      "cell_type": "markdown",
      "metadata": {
        "id": "ydt-ijcUh-HY"
      },
      "source": [
        "Tokenization"
      ]
    },
    {
      "cell_type": "code",
      "metadata": {
        "id": "PV1ECXlSiEXb"
      },
      "source": [
        "#Import  spacy and load the language library\n",
        "import spacy\n",
        "nlp=spacy.load(\"en_core_web_sm\")\n"
      ],
      "execution_count": 59,
      "outputs": []
    },
    {
      "cell_type": "code",
      "metadata": {
        "colab": {
          "base_uri": "https://localhost:8080/"
        },
        "id": "zjUaw7qpicL7",
        "outputId": "981f3e25-9321-4e96-d630-a7540a924832"
      },
      "source": [
        "#creating  string that includes openings and closing quotation marks\n",
        "mystring=\"We are moving to L.A.I\"\n",
        "print(mystring)"
      ],
      "execution_count": 60,
      "outputs": [
        {
          "output_type": "stream",
          "text": [
            "We are moving to L.A.I\n"
          ],
          "name": "stdout"
        }
      ]
    },
    {
      "cell_type": "code",
      "metadata": {
        "colab": {
          "base_uri": "https://localhost:8080/"
        },
        "id": "3d-qlCbAjN9K",
        "outputId": "3ea1024a-8433-48b5-c8c3-cb60e1219490"
      },
      "source": [
        "#Create a Doc object and explore tokens\n",
        "doc=nlp(mystring)\n",
        "for token in doc:\n",
        "  print(token.text,end=\" | \")"
      ],
      "execution_count": 61,
      "outputs": [
        {
          "output_type": "stream",
          "text": [
            "We | are | moving | to | L.A.I | "
          ],
          "name": "stdout"
        }
      ]
    },
    {
      "cell_type": "code",
      "metadata": {
        "colab": {
          "base_uri": "https://localhost:8080/"
        },
        "id": "ouwz7wcDjqCh",
        "outputId": "83bb6619-1576-48e2-96df-2760fa9e9915"
      },
      "source": [
        "doc2=nlp(u\"we are here to help Send snail-mail support@oursite.com or visit us at http://www.oursite.com\")\n",
        "for t in doc2:\n",
        "  print(t)"
      ],
      "execution_count": 63,
      "outputs": [
        {
          "output_type": "stream",
          "text": [
            "we\n",
            "are\n",
            "here\n",
            "to\n",
            "help\n",
            "Send\n",
            "snail\n",
            "-\n",
            "mail\n",
            "support@oursite.com\n",
            "or\n",
            "visit\n",
            "us\n",
            "at\n",
            "http://www.oursite.com\n"
          ],
          "name": "stdout"
        }
      ]
    },
    {
      "cell_type": "code",
      "metadata": {
        "colab": {
          "base_uri": "https://localhost:8080/"
        },
        "id": "ncZt5byamsYD",
        "outputId": "0427422a-adc8-44ad-be54-8baf94744bd2"
      },
      "source": [
        "doc3=nlp(u\"A 5km NYC cab ride costs $10.0\")\n",
        "for t in doc3:\n",
        "  print(t)"
      ],
      "execution_count": 64,
      "outputs": [
        {
          "output_type": "stream",
          "text": [
            "A\n",
            "%\n",
            "km\n",
            "NYC\n",
            "cab\n",
            "ride\n",
            "costs\n",
            "$\n",
            "10.0\n"
          ],
          "name": "stdout"
        }
      ]
    },
    {
      "cell_type": "markdown",
      "metadata": {
        "id": "TxoIUOlwoYpz"
      },
      "source": [
        "Exception"
      ]
    },
    {
      "cell_type": "code",
      "metadata": {
        "colab": {
          "base_uri": "https://localhost:8080/"
        },
        "id": "Tn4aGtXeocIe",
        "outputId": "b7f1f41d-ac0a-4567-9f42-d6a5b50dd837"
      },
      "source": [
        "doc4=nlp(\"lets vists st. louis in the U.S next year\")\n",
        "for t in doc4:\n",
        "  print(t)"
      ],
      "execution_count": 65,
      "outputs": [
        {
          "output_type": "stream",
          "text": [
            "lets\n",
            "vists\n",
            "st\n",
            ".\n",
            "louis\n",
            "in\n",
            "the\n",
            "U.S\n",
            "next\n",
            "year\n"
          ],
          "name": "stdout"
        }
      ]
    },
    {
      "cell_type": "code",
      "metadata": {
        "id": "0rp1Xyd9oznk"
      },
      "source": [
        ""
      ],
      "execution_count": null,
      "outputs": []
    },
    {
      "cell_type": "markdown",
      "metadata": {
        "id": "g1nsF9t0o3uj"
      },
      "source": [
        "Tokens can be retrieved by index position and slice"
      ]
    },
    {
      "cell_type": "code",
      "metadata": {
        "colab": {
          "base_uri": "https://localhost:8080/"
        },
        "id": "LLNtFHvPpHM2",
        "outputId": "79ff9c88-b5db-47c7-acb8-0ab6c70a9dba"
      },
      "source": [
        "doc5=nlp(u\"it is better to give than to recieve\")\n",
        "# Retrieve the third tokens\n",
        "doc5[2]\n",
        "#Retrieve three tokens from the middle \n",
        "doc5[2:5]\n",
        "#Retrieve the last four tokens\n",
        "doc5[-4:]"
      ],
      "execution_count": 67,
      "outputs": [
        {
          "output_type": "execute_result",
          "data": {
            "text/plain": [
              "give than to recieve"
            ]
          },
          "metadata": {
            "tags": []
          },
          "execution_count": 67
        }
      ]
    },
    {
      "cell_type": "markdown",
      "metadata": {
        "id": "4_5_v9aDptjw"
      },
      "source": [
        "Named Entities"
      ]
    },
    {
      "cell_type": "code",
      "metadata": {
        "colab": {
          "base_uri": "https://localhost:8080/"
        },
        "id": "gSeFuRPUpzEe",
        "outputId": "bfd3ad33-e2cb-428e-d965-96b3acaa6646"
      },
      "source": [
        "doc6=nlp(u\"Apple to build a hong kong factory fpr $6 million\")\n",
        "#printing the tokens \n",
        "for token in doc6:\n",
        "  print(token.text,end=\"| \")\n",
        "print(\"\\n--------\")\n",
        "#printing the entities with their explaination\n",
        "for ent in doc6.ents:\n",
        "    print(ent.text+\"-\"+ ent.label_+\"-\"+str(spacy.explain(ent.label_)))"
      ],
      "execution_count": 71,
      "outputs": [
        {
          "output_type": "stream",
          "text": [
            "Apple| to| build| a| hong| kong| factory| fpr| $| 6| million| \n",
            "--------\n",
            "Apple-ORG-Companies, agencies, institutions, etc.\n",
            "hong kong-GPE-Countries, cities, states\n",
            "$6 million-MONEY-Monetary values, including unit\n"
          ],
          "name": "stdout"
        }
      ]
    },
    {
      "cell_type": "code",
      "metadata": {
        "id": "upoXV8MTq2SQ"
      },
      "source": [
        ""
      ],
      "execution_count": null,
      "outputs": []
    }
  ]
}