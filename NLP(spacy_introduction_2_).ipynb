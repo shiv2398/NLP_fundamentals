{
  "nbformat": 4,
  "nbformat_minor": 0,
  "metadata": {
    "colab": {
      "name": "NLP(spacy_introduction_2_).ipynb",
      "provenance": []
    },
    "kernelspec": {
      "name": "python3",
      "display_name": "Python 3"
    },
    "language_info": {
      "name": "python"
    }
  },
  "cells": [
    {
      "cell_type": "code",
      "metadata": {
        "id": "XV2Ceejr4PKX"
      },
      "source": [
        "#import the English language class\n",
        "import spacy\n",
        "from spacy.lang.en import English "
      ],
      "execution_count": 32,
      "outputs": []
    },
    {
      "cell_type": "code",
      "metadata": {
        "id": "Mi-FUBsu4Qdf"
      },
      "source": [
        "nlp=spacy.load(\"en_core_web_sm\")"
      ],
      "execution_count": 33,
      "outputs": []
    },
    {
      "cell_type": "markdown",
      "metadata": {
        "id": "AwHzOzUg4h4F"
      },
      "source": [
        "Noun Chunks\n"
      ]
    },
    {
      "cell_type": "code",
      "metadata": {
        "colab": {
          "base_uri": "https://localhost:8080/"
        },
        "id": "KdIIsYaA4lgo",
        "outputId": "f1d0dfdb-aca0-43c0-cee5-9c5bf0917e59"
      },
      "source": [
        "doc=nlp(u\"Autonoumous cars shift insurence liability towards manufactures\")\n",
        "for chunk in doc.noun_chunks:\n",
        "  print(chunk.text)"
      ],
      "execution_count": 34,
      "outputs": [
        {
          "output_type": "stream",
          "text": [
            "Autonoumous cars\n",
            "insurence liability\n",
            "manufactures\n"
          ],
          "name": "stdout"
        }
      ]
    },
    {
      "cell_type": "code",
      "metadata": {
        "colab": {
          "base_uri": "https://localhost:8080/"
        },
        "id": "UZwGNnb45bUs",
        "outputId": "41008837-4725-4de2-a8d6-2871645f2885"
      },
      "source": [
        "doc1=nlp(\"Red car do not carry higher insurance rates\")\n",
        "for chunk in doc1.noun_chunks:\n",
        "  print(chunk.text)"
      ],
      "execution_count": 35,
      "outputs": [
        {
          "output_type": "stream",
          "text": [
            "Red car\n",
            "higher insurance rates\n"
          ],
          "name": "stdout"
        }
      ]
    },
    {
      "cell_type": "code",
      "metadata": {
        "colab": {
          "base_uri": "https://localhost:8080/"
        },
        "id": "GYqgmvSb6l7E",
        "outputId": "7bd0f94f-2e7d-4fb5-ae36-82186d109bb4"
      },
      "source": [
        "doc2=nlp(\"He was a one eyed one hundered flying purple people-eater\")\n",
        "for chunk in doc2.noun_chunks:\n",
        "  print(chunk.text)"
      ],
      "execution_count": 36,
      "outputs": [
        {
          "output_type": "stream",
          "text": [
            "He\n",
            "purple people\n"
          ],
          "name": "stdout"
        }
      ]
    },
    {
      "cell_type": "code",
      "metadata": {
        "id": "IlzH_Tmb7Nu1"
      },
      "source": [
        ""
      ],
      "execution_count": 36,
      "outputs": []
    },
    {
      "cell_type": "markdown",
      "metadata": {
        "id": "TmFc1hiC7Q2r"
      },
      "source": [
        "Built-in Visualizers"
      ]
    },
    {
      "cell_type": "code",
      "metadata": {
        "id": "KxCqL41O7Ygy"
      },
      "source": [
        "from spacy import displacy"
      ],
      "execution_count": 37,
      "outputs": []
    },
    {
      "cell_type": "code",
      "metadata": {
        "colab": {
          "base_uri": "https://localhost:8080/",
          "height": 453
        },
        "id": "fkiCdm0J7f7W",
        "outputId": "394f919c-3803-425b-c8b0-98647d6a2151"
      },
      "source": [
        "doc=nlp(\"Apple is going to build  a U.K. factory for $6 million \")\n",
        "displacy.render(doc,style=\"dep\",jupyter=True,options={\"distance\":110})"
      ],
      "execution_count": 38,
      "outputs": [
        {
          "output_type": "display_data",
          "data": {
            "text/html": [
              "<span class=\"tex2jax_ignore\"><svg xmlns=\"http://www.w3.org/2000/svg\" xmlns:xlink=\"http://www.w3.org/1999/xlink\" xml:lang=\"en\" id=\"d172b9c0f6964dfbaa3b50560053a1ec-0\" class=\"displacy\" width=\"1480\" height=\"412.0\" direction=\"ltr\" style=\"max-width: none; height: 412.0px; color: #000000; background: #ffffff; font-family: Arial; direction: ltr\">\n",
              "<text class=\"displacy-token\" fill=\"currentColor\" text-anchor=\"middle\" y=\"322.0\">\n",
              "    <tspan class=\"displacy-word\" fill=\"currentColor\" x=\"50\">Apple</tspan>\n",
              "    <tspan class=\"displacy-tag\" dy=\"2em\" fill=\"currentColor\" x=\"50\">PROPN</tspan>\n",
              "</text>\n",
              "\n",
              "<text class=\"displacy-token\" fill=\"currentColor\" text-anchor=\"middle\" y=\"322.0\">\n",
              "    <tspan class=\"displacy-word\" fill=\"currentColor\" x=\"160\">is</tspan>\n",
              "    <tspan class=\"displacy-tag\" dy=\"2em\" fill=\"currentColor\" x=\"160\">AUX</tspan>\n",
              "</text>\n",
              "\n",
              "<text class=\"displacy-token\" fill=\"currentColor\" text-anchor=\"middle\" y=\"322.0\">\n",
              "    <tspan class=\"displacy-word\" fill=\"currentColor\" x=\"270\">going</tspan>\n",
              "    <tspan class=\"displacy-tag\" dy=\"2em\" fill=\"currentColor\" x=\"270\">VERB</tspan>\n",
              "</text>\n",
              "\n",
              "<text class=\"displacy-token\" fill=\"currentColor\" text-anchor=\"middle\" y=\"322.0\">\n",
              "    <tspan class=\"displacy-word\" fill=\"currentColor\" x=\"380\">to</tspan>\n",
              "    <tspan class=\"displacy-tag\" dy=\"2em\" fill=\"currentColor\" x=\"380\">PART</tspan>\n",
              "</text>\n",
              "\n",
              "<text class=\"displacy-token\" fill=\"currentColor\" text-anchor=\"middle\" y=\"322.0\">\n",
              "    <tspan class=\"displacy-word\" fill=\"currentColor\" x=\"490\">build</tspan>\n",
              "    <tspan class=\"displacy-tag\" dy=\"2em\" fill=\"currentColor\" x=\"490\">VERB</tspan>\n",
              "</text>\n",
              "\n",
              "<text class=\"displacy-token\" fill=\"currentColor\" text-anchor=\"middle\" y=\"322.0\">\n",
              "    <tspan class=\"displacy-word\" fill=\"currentColor\" x=\"600\"> </tspan>\n",
              "    <tspan class=\"displacy-tag\" dy=\"2em\" fill=\"currentColor\" x=\"600\">SPACE</tspan>\n",
              "</text>\n",
              "\n",
              "<text class=\"displacy-token\" fill=\"currentColor\" text-anchor=\"middle\" y=\"322.0\">\n",
              "    <tspan class=\"displacy-word\" fill=\"currentColor\" x=\"710\">a</tspan>\n",
              "    <tspan class=\"displacy-tag\" dy=\"2em\" fill=\"currentColor\" x=\"710\">DET</tspan>\n",
              "</text>\n",
              "\n",
              "<text class=\"displacy-token\" fill=\"currentColor\" text-anchor=\"middle\" y=\"322.0\">\n",
              "    <tspan class=\"displacy-word\" fill=\"currentColor\" x=\"820\">U.K.</tspan>\n",
              "    <tspan class=\"displacy-tag\" dy=\"2em\" fill=\"currentColor\" x=\"820\">PROPN</tspan>\n",
              "</text>\n",
              "\n",
              "<text class=\"displacy-token\" fill=\"currentColor\" text-anchor=\"middle\" y=\"322.0\">\n",
              "    <tspan class=\"displacy-word\" fill=\"currentColor\" x=\"930\">factory</tspan>\n",
              "    <tspan class=\"displacy-tag\" dy=\"2em\" fill=\"currentColor\" x=\"930\">NOUN</tspan>\n",
              "</text>\n",
              "\n",
              "<text class=\"displacy-token\" fill=\"currentColor\" text-anchor=\"middle\" y=\"322.0\">\n",
              "    <tspan class=\"displacy-word\" fill=\"currentColor\" x=\"1040\">for</tspan>\n",
              "    <tspan class=\"displacy-tag\" dy=\"2em\" fill=\"currentColor\" x=\"1040\">ADP</tspan>\n",
              "</text>\n",
              "\n",
              "<text class=\"displacy-token\" fill=\"currentColor\" text-anchor=\"middle\" y=\"322.0\">\n",
              "    <tspan class=\"displacy-word\" fill=\"currentColor\" x=\"1150\">$</tspan>\n",
              "    <tspan class=\"displacy-tag\" dy=\"2em\" fill=\"currentColor\" x=\"1150\">SYM</tspan>\n",
              "</text>\n",
              "\n",
              "<text class=\"displacy-token\" fill=\"currentColor\" text-anchor=\"middle\" y=\"322.0\">\n",
              "    <tspan class=\"displacy-word\" fill=\"currentColor\" x=\"1260\">6</tspan>\n",
              "    <tspan class=\"displacy-tag\" dy=\"2em\" fill=\"currentColor\" x=\"1260\">NUM</tspan>\n",
              "</text>\n",
              "\n",
              "<text class=\"displacy-token\" fill=\"currentColor\" text-anchor=\"middle\" y=\"322.0\">\n",
              "    <tspan class=\"displacy-word\" fill=\"currentColor\" x=\"1370\">million</tspan>\n",
              "    <tspan class=\"displacy-tag\" dy=\"2em\" fill=\"currentColor\" x=\"1370\">NUM</tspan>\n",
              "</text>\n",
              "\n",
              "<g class=\"displacy-arrow\">\n",
              "    <path class=\"displacy-arc\" id=\"arrow-d172b9c0f6964dfbaa3b50560053a1ec-0-0\" stroke-width=\"2px\" d=\"M70,277.0 C70,167.0 255.0,167.0 255.0,277.0\" fill=\"none\" stroke=\"currentColor\"/>\n",
              "    <text dy=\"1.25em\" style=\"font-size: 0.8em; letter-spacing: 1px\">\n",
              "        <textPath xlink:href=\"#arrow-d172b9c0f6964dfbaa3b50560053a1ec-0-0\" class=\"displacy-label\" startOffset=\"50%\" side=\"left\" fill=\"currentColor\" text-anchor=\"middle\">nsubj</textPath>\n",
              "    </text>\n",
              "    <path class=\"displacy-arrowhead\" d=\"M70,279.0 L62,267.0 78,267.0\" fill=\"currentColor\"/>\n",
              "</g>\n",
              "\n",
              "<g class=\"displacy-arrow\">\n",
              "    <path class=\"displacy-arc\" id=\"arrow-d172b9c0f6964dfbaa3b50560053a1ec-0-1\" stroke-width=\"2px\" d=\"M180,277.0 C180,222.0 250.0,222.0 250.0,277.0\" fill=\"none\" stroke=\"currentColor\"/>\n",
              "    <text dy=\"1.25em\" style=\"font-size: 0.8em; letter-spacing: 1px\">\n",
              "        <textPath xlink:href=\"#arrow-d172b9c0f6964dfbaa3b50560053a1ec-0-1\" class=\"displacy-label\" startOffset=\"50%\" side=\"left\" fill=\"currentColor\" text-anchor=\"middle\">aux</textPath>\n",
              "    </text>\n",
              "    <path class=\"displacy-arrowhead\" d=\"M180,279.0 L172,267.0 188,267.0\" fill=\"currentColor\"/>\n",
              "</g>\n",
              "\n",
              "<g class=\"displacy-arrow\">\n",
              "    <path class=\"displacy-arc\" id=\"arrow-d172b9c0f6964dfbaa3b50560053a1ec-0-2\" stroke-width=\"2px\" d=\"M400,277.0 C400,222.0 470.0,222.0 470.0,277.0\" fill=\"none\" stroke=\"currentColor\"/>\n",
              "    <text dy=\"1.25em\" style=\"font-size: 0.8em; letter-spacing: 1px\">\n",
              "        <textPath xlink:href=\"#arrow-d172b9c0f6964dfbaa3b50560053a1ec-0-2\" class=\"displacy-label\" startOffset=\"50%\" side=\"left\" fill=\"currentColor\" text-anchor=\"middle\">aux</textPath>\n",
              "    </text>\n",
              "    <path class=\"displacy-arrowhead\" d=\"M400,279.0 L392,267.0 408,267.0\" fill=\"currentColor\"/>\n",
              "</g>\n",
              "\n",
              "<g class=\"displacy-arrow\">\n",
              "    <path class=\"displacy-arc\" id=\"arrow-d172b9c0f6964dfbaa3b50560053a1ec-0-3\" stroke-width=\"2px\" d=\"M290,277.0 C290,167.0 475.0,167.0 475.0,277.0\" fill=\"none\" stroke=\"currentColor\"/>\n",
              "    <text dy=\"1.25em\" style=\"font-size: 0.8em; letter-spacing: 1px\">\n",
              "        <textPath xlink:href=\"#arrow-d172b9c0f6964dfbaa3b50560053a1ec-0-3\" class=\"displacy-label\" startOffset=\"50%\" side=\"left\" fill=\"currentColor\" text-anchor=\"middle\">xcomp</textPath>\n",
              "    </text>\n",
              "    <path class=\"displacy-arrowhead\" d=\"M475.0,279.0 L483.0,267.0 467.0,267.0\" fill=\"currentColor\"/>\n",
              "</g>\n",
              "\n",
              "<g class=\"displacy-arrow\">\n",
              "    <path class=\"displacy-arc\" id=\"arrow-d172b9c0f6964dfbaa3b50560053a1ec-0-4\" stroke-width=\"2px\" d=\"M510,277.0 C510,222.0 580.0,222.0 580.0,277.0\" fill=\"none\" stroke=\"currentColor\"/>\n",
              "    <text dy=\"1.25em\" style=\"font-size: 0.8em; letter-spacing: 1px\">\n",
              "        <textPath xlink:href=\"#arrow-d172b9c0f6964dfbaa3b50560053a1ec-0-4\" class=\"displacy-label\" startOffset=\"50%\" side=\"left\" fill=\"currentColor\" text-anchor=\"middle\"></textPath>\n",
              "    </text>\n",
              "    <path class=\"displacy-arrowhead\" d=\"M580.0,279.0 L588.0,267.0 572.0,267.0\" fill=\"currentColor\"/>\n",
              "</g>\n",
              "\n",
              "<g class=\"displacy-arrow\">\n",
              "    <path class=\"displacy-arc\" id=\"arrow-d172b9c0f6964dfbaa3b50560053a1ec-0-5\" stroke-width=\"2px\" d=\"M730,277.0 C730,167.0 915.0,167.0 915.0,277.0\" fill=\"none\" stroke=\"currentColor\"/>\n",
              "    <text dy=\"1.25em\" style=\"font-size: 0.8em; letter-spacing: 1px\">\n",
              "        <textPath xlink:href=\"#arrow-d172b9c0f6964dfbaa3b50560053a1ec-0-5\" class=\"displacy-label\" startOffset=\"50%\" side=\"left\" fill=\"currentColor\" text-anchor=\"middle\">det</textPath>\n",
              "    </text>\n",
              "    <path class=\"displacy-arrowhead\" d=\"M730,279.0 L722,267.0 738,267.0\" fill=\"currentColor\"/>\n",
              "</g>\n",
              "\n",
              "<g class=\"displacy-arrow\">\n",
              "    <path class=\"displacy-arc\" id=\"arrow-d172b9c0f6964dfbaa3b50560053a1ec-0-6\" stroke-width=\"2px\" d=\"M840,277.0 C840,222.0 910.0,222.0 910.0,277.0\" fill=\"none\" stroke=\"currentColor\"/>\n",
              "    <text dy=\"1.25em\" style=\"font-size: 0.8em; letter-spacing: 1px\">\n",
              "        <textPath xlink:href=\"#arrow-d172b9c0f6964dfbaa3b50560053a1ec-0-6\" class=\"displacy-label\" startOffset=\"50%\" side=\"left\" fill=\"currentColor\" text-anchor=\"middle\">compound</textPath>\n",
              "    </text>\n",
              "    <path class=\"displacy-arrowhead\" d=\"M840,279.0 L832,267.0 848,267.0\" fill=\"currentColor\"/>\n",
              "</g>\n",
              "\n",
              "<g class=\"displacy-arrow\">\n",
              "    <path class=\"displacy-arc\" id=\"arrow-d172b9c0f6964dfbaa3b50560053a1ec-0-7\" stroke-width=\"2px\" d=\"M510,277.0 C510,57.0 925.0,57.0 925.0,277.0\" fill=\"none\" stroke=\"currentColor\"/>\n",
              "    <text dy=\"1.25em\" style=\"font-size: 0.8em; letter-spacing: 1px\">\n",
              "        <textPath xlink:href=\"#arrow-d172b9c0f6964dfbaa3b50560053a1ec-0-7\" class=\"displacy-label\" startOffset=\"50%\" side=\"left\" fill=\"currentColor\" text-anchor=\"middle\">dobj</textPath>\n",
              "    </text>\n",
              "    <path class=\"displacy-arrowhead\" d=\"M925.0,279.0 L933.0,267.0 917.0,267.0\" fill=\"currentColor\"/>\n",
              "</g>\n",
              "\n",
              "<g class=\"displacy-arrow\">\n",
              "    <path class=\"displacy-arc\" id=\"arrow-d172b9c0f6964dfbaa3b50560053a1ec-0-8\" stroke-width=\"2px\" d=\"M510,277.0 C510,2.0 1040.0,2.0 1040.0,277.0\" fill=\"none\" stroke=\"currentColor\"/>\n",
              "    <text dy=\"1.25em\" style=\"font-size: 0.8em; letter-spacing: 1px\">\n",
              "        <textPath xlink:href=\"#arrow-d172b9c0f6964dfbaa3b50560053a1ec-0-8\" class=\"displacy-label\" startOffset=\"50%\" side=\"left\" fill=\"currentColor\" text-anchor=\"middle\">prep</textPath>\n",
              "    </text>\n",
              "    <path class=\"displacy-arrowhead\" d=\"M1040.0,279.0 L1048.0,267.0 1032.0,267.0\" fill=\"currentColor\"/>\n",
              "</g>\n",
              "\n",
              "<g class=\"displacy-arrow\">\n",
              "    <path class=\"displacy-arc\" id=\"arrow-d172b9c0f6964dfbaa3b50560053a1ec-0-9\" stroke-width=\"2px\" d=\"M1170,277.0 C1170,167.0 1355.0,167.0 1355.0,277.0\" fill=\"none\" stroke=\"currentColor\"/>\n",
              "    <text dy=\"1.25em\" style=\"font-size: 0.8em; letter-spacing: 1px\">\n",
              "        <textPath xlink:href=\"#arrow-d172b9c0f6964dfbaa3b50560053a1ec-0-9\" class=\"displacy-label\" startOffset=\"50%\" side=\"left\" fill=\"currentColor\" text-anchor=\"middle\">quantmod</textPath>\n",
              "    </text>\n",
              "    <path class=\"displacy-arrowhead\" d=\"M1170,279.0 L1162,267.0 1178,267.0\" fill=\"currentColor\"/>\n",
              "</g>\n",
              "\n",
              "<g class=\"displacy-arrow\">\n",
              "    <path class=\"displacy-arc\" id=\"arrow-d172b9c0f6964dfbaa3b50560053a1ec-0-10\" stroke-width=\"2px\" d=\"M1280,277.0 C1280,222.0 1350.0,222.0 1350.0,277.0\" fill=\"none\" stroke=\"currentColor\"/>\n",
              "    <text dy=\"1.25em\" style=\"font-size: 0.8em; letter-spacing: 1px\">\n",
              "        <textPath xlink:href=\"#arrow-d172b9c0f6964dfbaa3b50560053a1ec-0-10\" class=\"displacy-label\" startOffset=\"50%\" side=\"left\" fill=\"currentColor\" text-anchor=\"middle\">compound</textPath>\n",
              "    </text>\n",
              "    <path class=\"displacy-arrowhead\" d=\"M1280,279.0 L1272,267.0 1288,267.0\" fill=\"currentColor\"/>\n",
              "</g>\n",
              "\n",
              "<g class=\"displacy-arrow\">\n",
              "    <path class=\"displacy-arc\" id=\"arrow-d172b9c0f6964dfbaa3b50560053a1ec-0-11\" stroke-width=\"2px\" d=\"M1060,277.0 C1060,112.0 1360.0,112.0 1360.0,277.0\" fill=\"none\" stroke=\"currentColor\"/>\n",
              "    <text dy=\"1.25em\" style=\"font-size: 0.8em; letter-spacing: 1px\">\n",
              "        <textPath xlink:href=\"#arrow-d172b9c0f6964dfbaa3b50560053a1ec-0-11\" class=\"displacy-label\" startOffset=\"50%\" side=\"left\" fill=\"currentColor\" text-anchor=\"middle\">pobj</textPath>\n",
              "    </text>\n",
              "    <path class=\"displacy-arrowhead\" d=\"M1360.0,279.0 L1368.0,267.0 1352.0,267.0\" fill=\"currentColor\"/>\n",
              "</g>\n",
              "</svg></span>"
            ],
            "text/plain": [
              "<IPython.core.display.HTML object>"
            ]
          },
          "metadata": {
            "tags": []
          }
        }
      ]
    },
    {
      "cell_type": "code",
      "metadata": {
        "colab": {
          "base_uri": "https://localhost:8080/",
          "height": 87
        },
        "id": "pL0icOkS8Qeu",
        "outputId": "24ad7d6a-85b3-4448-d261-d0ce4aab48a7"
      },
      "source": [
        "doc=nlp(\"over the last quarter Apple sold nearly 20 thousand ipods for a profit of %6 million\")\n",
        "displacy.render(doc,style='ent',jupyter=True)"
      ],
      "execution_count": 39,
      "outputs": [
        {
          "output_type": "display_data",
          "data": {
            "text/html": [
              "<span class=\"tex2jax_ignore\"><div class=\"entities\" style=\"line-height: 2.5; direction: ltr\">over \n",
              "<mark class=\"entity\" style=\"background: #bfe1d9; padding: 0.45em 0.6em; margin: 0 0.25em; line-height: 1; border-radius: 0.35em;\">\n",
              "    the last quarter\n",
              "    <span style=\"font-size: 0.8em; font-weight: bold; line-height: 1; border-radius: 0.35em; text-transform: uppercase; vertical-align: middle; margin-left: 0.5rem\">DATE</span>\n",
              "</mark>\n",
              " \n",
              "<mark class=\"entity\" style=\"background: #7aecec; padding: 0.45em 0.6em; margin: 0 0.25em; line-height: 1; border-radius: 0.35em;\">\n",
              "    Apple\n",
              "    <span style=\"font-size: 0.8em; font-weight: bold; line-height: 1; border-radius: 0.35em; text-transform: uppercase; vertical-align: middle; margin-left: 0.5rem\">ORG</span>\n",
              "</mark>\n",
              " sold \n",
              "<mark class=\"entity\" style=\"background: #e4e7d2; padding: 0.45em 0.6em; margin: 0 0.25em; line-height: 1; border-radius: 0.35em;\">\n",
              "    nearly 20 thousand\n",
              "    <span style=\"font-size: 0.8em; font-weight: bold; line-height: 1; border-radius: 0.35em; text-transform: uppercase; vertical-align: middle; margin-left: 0.5rem\">CARDINAL</span>\n",
              "</mark>\n",
              " ipods for a profit of \n",
              "<mark class=\"entity\" style=\"background: #e4e7d2; padding: 0.45em 0.6em; margin: 0 0.25em; line-height: 1; border-radius: 0.35em;\">\n",
              "    %6 million\n",
              "    <span style=\"font-size: 0.8em; font-weight: bold; line-height: 1; border-radius: 0.35em; text-transform: uppercase; vertical-align: middle; margin-left: 0.5rem\">CARDINAL</span>\n",
              "</mark>\n",
              "</div></span>"
            ],
            "text/plain": [
              "<IPython.core.display.HTML object>"
            ]
          },
          "metadata": {
            "tags": []
          }
        }
      ]
    },
    {
      "cell_type": "code",
      "metadata": {
        "colab": {
          "base_uri": "https://localhost:8080/"
        },
        "id": "eFrYKZOc9Guq",
        "outputId": "3904d09d-4ccc-4636-a55b-73c2e88ef7a0"
      },
      "source": [
        "#stops words \n",
        "#Performs standard imports\n",
        "nlp=spacy.load('en_core_web_sm')\n",
        "#Print the set of spacy default's stop words (remember that sets are unordered)\n",
        "print(nlp.Defaults.stop_words)"
      ],
      "execution_count": 40,
      "outputs": [
        {
          "output_type": "stream",
          "text": [
            "{'on', 'more', 'between', 'anywhere', 'already', 'than', 'as', 'doing', 'per', 'either', 'first', 'across', 'his', 'together', 'everything', 'whether', 'fifty', 'they', 'your', 'if', 'herein', 'after', 'nine', 'itself', '‘s', 'must', \"'ve\", 'amongst', 'here', '‘d', 'not', 'put', 'them', 'hence', 'why', 'besides', 'will', 'neither', 'yours', 'someone', 'side', 'nobody', 'or', 'and', 'via', 'its', 'name', 'before', 'once', '’ll', 'some', \"'d\", 'both', 'several', 'everyone', 'less', 'formerly', 'within', 'sixty', 'by', 'anyhow', 'still', 'take', 'six', 'however', 'us', 'to', 'whither', 'three', 'go', 'always', 'eight', 'become', 'upon', 'do', 'get', 'made', 'wherever', 'wherein', 'cannot', 're', 'eleven', 'hundred', 'beside', 'may', 'same', 'latter', 'how', 'was', '‘re', \"'s\", 'while', \"'m\", 'should', 'afterwards', 'moreover', 'is', 'fifteen', 'any', 'five', 'in', 'very', 'yet', 'even', 'others', 'would', 'her', 'n’t', 'well', 'mostly', 'beforehand', 'am', \"n't\", 'does', 'anyway', 'what', 'though', 'twelve', 'indeed', 'two', 'becoming', 'himself', 'ever', 'can', 'almost', '’s', 'something', 'regarding', 'serious', 'give', 'over', 'could', 'me', 'herself', '‘m', 'at', 'hereby', 'until', 'you', 'therein', 'ten', 'namely', 'seem', 'nevertheless', 'top', 'meanwhile', 'whereupon', 'elsewhere', 'perhaps', 'say', 'further', 'never', 'that', 'therefore', 'see', 'too', 'show', 'four', 'be', 'call', 'we', '‘ve', 'against', 'done', 'did', 'because', 'most', 'only', 'ca', 'through', 'often', 'move', 'now', 'else', 'up', 'around', 'without', 'it', '’d', 'down', 'much', 'no', 'she', 'been', 'nor', 'many', 'part', 'such', 'when', 'somewhere', 'myself', 'hereupon', 'into', 'sometime', 'of', 'were', 'last', 'mine', 'amount', 'about', 'then', 'since', '’re', 'throughout', 'a', 'whole', 'whereafter', 'latterly', 'anyone', 'every', 'those', 'thus', 'whence', 'from', 'under', 'thereby', 'so', 'are', 'whom', 'my', 'unless', 'using', 'really', 'i', 'noone', 'toward', 'make', 'everywhere', 'keep', 'behind', 'own', 'whereas', 'bottom', 'somehow', 'onto', 'whereby', 'again', 'empty', 'ourselves', 'various', 'few', 'rather', '‘ll', 'each', 'quite', 'whose', 'also', 'towards', 'twenty', 'full', 'off', 'out', 'whatever', 'has', 'hereafter', 'another', 'these', 'front', 'least', 'along', '’m', 'but', 'seems', 'thence', 'all', 'thereafter', 'one', 'seemed', 'thru', 'there', 'btw', 'ours', 'for', 'our', 'whoever', 'nowhere', 'the', 'had', 'above', 'please', 'sometimes', 'who', 'being', \"'ll\", 'their', 'below', 'with', 'forty', 'yourselves', 'next', 'an', 'whenever', 'third', 'thereupon', 'became', 'him', 'although', 'hers', 'enough', 'have', '’ve', 'becomes', \"'re\", 'except', 'n‘t', 'just', 'seeming', 'yourself', 'among', 'during', 'used', 'this', 'which', 'nothing', 'back', 'anything', 'due', 'he', 'none', 'themselves', 'might', 'alone', 'other', 'where', 'former', 'otherwise'}\n"
          ],
          "name": "stdout"
        }
      ]
    },
    {
      "cell_type": "code",
      "metadata": {
        "id": "i-AtMY2A-yS5"
      },
      "source": [
        "#Add the stop words in the set of stop words. use lowercase!\n",
        "nlp.Defaults.stop_words.add('btw')\n",
        "#Set the stop_words tag on the lexeme\n",
        "nlp.vocab[\"ntw\"].is_stop=True"
      ],
      "execution_count": 41,
      "outputs": []
    },
    {
      "cell_type": "code",
      "metadata": {
        "colab": {
          "base_uri": "https://localhost:8080/"
        },
        "id": "eVd__CyEAV39",
        "outputId": "135632f0-9496-4e44-c7e0-9461079290fb"
      },
      "source": [
        "#checking\n",
        "nlp.vocab['btw'].is_stop"
      ],
      "execution_count": 42,
      "outputs": [
        {
          "output_type": "execute_result",
          "data": {
            "text/plain": [
              "True"
            ]
          },
          "metadata": {
            "tags": []
          },
          "execution_count": 42
        }
      ]
    },
    {
      "cell_type": "code",
      "metadata": {
        "colab": {
          "base_uri": "https://localhost:8080/"
        },
        "id": "dCAHPC3hAlJB",
        "outputId": "d0e51950-89ad-44d1-c068-debcc6fef02b"
      },
      "source": [
        "nlp.vocab['mystery'].is_stop"
      ],
      "execution_count": 43,
      "outputs": [
        {
          "output_type": "execute_result",
          "data": {
            "text/plain": [
              "False"
            ]
          },
          "metadata": {
            "tags": []
          },
          "execution_count": 43
        }
      ]
    },
    {
      "cell_type": "code",
      "metadata": {
        "colab": {
          "base_uri": "https://localhost:8080/"
        },
        "id": "kEzfATs_AzQ7",
        "outputId": "ba730cd5-86f7-4144-e7fa-ba49fc796c1f"
      },
      "source": [
        "#Add the word to the set of the words . use lowercase\n",
        "nlp.Defaults.stop_words.add(\"btw\")\n",
        "\n",
        "#checking\n",
        "nlp.vocab['btw'].is_stop\n"
      ],
      "execution_count": 46,
      "outputs": [
        {
          "output_type": "execute_result",
          "data": {
            "text/plain": [
              "True"
            ]
          },
          "metadata": {
            "tags": []
          },
          "execution_count": 46
        }
      ]
    },
    {
      "cell_type": "code",
      "metadata": {
        "id": "cg0qHjOaEgM_"
      },
      "source": [
        ""
      ],
      "execution_count": null,
      "outputs": []
    },
    {
      "cell_type": "markdown",
      "metadata": {
        "id": "Oj_zWaacGE6G"
      },
      "source": [
        "\n",
        "Part of Speech(POS)\n"
      ]
    },
    {
      "cell_type": "code",
      "metadata": {
        "id": "nm9Dk3vwGLBw"
      },
      "source": [
        "#create a simple doc object\n",
        "doc=nlp(u\"the quick brown fox jumped over the lazy dog's back\")\n",
        "for token in doc:\n",
        "  print(f\"{token.text:{10}}{token.pos_:{8}}{token.tag_:{6}}{spacy.explain(token.tag_)}\")"
      ],
      "execution_count": null,
      "outputs": []
    },
    {
      "cell_type": "code",
      "metadata": {
        "id": "HB4DSK85Gy7N"
      },
      "source": [
        ""
      ],
      "execution_count": null,
      "outputs": []
    },
    {
      "cell_type": "markdown",
      "metadata": {
        "id": "8WL6k-hPHnon"
      },
      "source": [
        "working with POS"
      ]
    },
    {
      "cell_type": "code",
      "metadata": {
        "id": "uv6kxk1jHuIt"
      },
      "source": [
        "doc=nlp('I read a books on NLP')\n",
        "r=doc[1]\n",
        "print(f'{r.text:{10}}{r.pos_:{8}}{r.tag_:{6}}{spacy.explain(r.tag_)}')"
      ],
      "execution_count": null,
      "outputs": []
    },
    {
      "cell_type": "code",
      "metadata": {
        "id": "-wDxoTYSIRX3"
      },
      "source": [
        "doc=nlp(u\"I read books on NLP\")\n",
        "r=doc[1]\n",
        "print(f\"{r.text:{10}}{r.pos_:{8}}{r.tag_:{6}}{spacy.explain(r.tag_)}\")"
      ],
      "execution_count": null,
      "outputs": []
    },
    {
      "cell_type": "code",
      "metadata": {
        "id": "eTAR8Ow8JH9G"
      },
      "source": [
        ""
      ],
      "execution_count": null,
      "outputs": []
    },
    {
      "cell_type": "markdown",
      "metadata": {
        "id": "BiwXwEsyJPNW"
      },
      "source": [
        "Counting POS Tags"
      ]
    },
    {
      "cell_type": "code",
      "metadata": {
        "id": "1DkIkdWyJWql"
      },
      "source": [
        "#count the different frequencies of different coarse-gained POS tags\n",
        "pos_counts=doc.count_by(spacy.attrs.POS)\n",
        "pos_counts"
      ],
      "execution_count": null,
      "outputs": []
    },
    {
      "cell_type": "code",
      "metadata": {
        "id": "-GqAPXOvJ9FS"
      },
      "source": [
        "doc.vocab[84].text"
      ],
      "execution_count": null,
      "outputs": []
    },
    {
      "cell_type": "code",
      "metadata": {
        "id": "FmWDRhrAKFKI"
      },
      "source": [
        "for k, v in sorted(pos_counts.items()):\n",
        "  print(f'{k}.{doc.vocab[k].text:{5}}:{v}')"
      ],
      "execution_count": null,
      "outputs": []
    },
    {
      "cell_type": "code",
      "metadata": {
        "id": "ANS-U1YlVcr2"
      },
      "source": [
        "#Counts the different fine-gained tags\n",
        "\n",
        "tag_counts=doc.count_by(spacy.attrs.TAG)\n",
        "for k,v in sorted(tag_counts.items()):\n",
        "  print(f\"{k}.{doc.vocab[k].text:{4}}:{4}\")"
      ],
      "execution_count": null,
      "outputs": []
    },
    {
      "cell_type": "code",
      "metadata": {
        "id": "plWUJaGrV5vT"
      },
      "source": [
        " "
      ],
      "execution_count": null,
      "outputs": []
    },
    {
      "cell_type": "markdown",
      "metadata": {
        "id": "8LfaiAcQWdZO"
      },
      "source": [
        "Named Entities"
      ]
    },
    {
      "cell_type": "code",
      "metadata": {
        "id": "1PVtSSJ2WlER"
      },
      "source": [
        "#write a function to display basic entity info\n",
        "def show_ents(doc):\n",
        "  if doc.ents:\n",
        "    for ent in doc.ents:\n",
        "      print(ent.text+\"-\"+ent.label_+\"-\"+str(spacy.explain(ent.label_)))\n",
        "  else:\n",
        "    print(\"No named entities found\")"
      ],
      "execution_count": null,
      "outputs": []
    },
    {
      "cell_type": "code",
      "metadata": {
        "id": "HrPPBO6SXK6i"
      },
      "source": [
        "doc=nlp(u\"May I go to washington ,DC next May to see the washington Monument\")\n",
        "show_ents(doc)"
      ],
      "execution_count": null,
      "outputs": []
    },
    {
      "cell_type": "code",
      "metadata": {
        "id": "MEKaz48wYGrM",
        "colab": {
          "base_uri": "https://localhost:8080/"
        },
        "outputId": "43d0806d-244c-480e-9d7b-537663416976"
      },
      "source": [
        "doc=nlp(u\"can i please borrow 500 dollors from you to  buy sum Microsoft stocks\")\n",
        "for ent in doc.ents:\n",
        "  print(ent.text,ent.start,ent.end,ent.start_char,ent.end_char,ent.label_)"
      ],
      "execution_count": 51,
      "outputs": [
        {
          "output_type": "stream",
          "text": [
            "500 4 5 20 23 CARDINAL\n",
            "Microsoft 12 13 53 62 ORG\n"
          ],
          "name": "stdout"
        }
      ]
    },
    {
      "cell_type": "code",
      "metadata": {
        "colab": {
          "base_uri": "https://localhost:8080/"
        },
        "id": "5cRindtFeQyR",
        "outputId": "4e60fa80-db52-4b38-cb97-0a0a714c2893"
      },
      "source": [
        "#adding the name entity \n",
        "doc=nlp(u\"Tesla to build a UK factory for $ billion\")\n",
        "show_ents(doc)"
      ],
      "execution_count": 52,
      "outputs": [
        {
          "output_type": "stream",
          "text": [
            "UK-GPE-Countries, cities, states\n",
            "billion-MONEY-Monetary values, including unit\n"
          ],
          "name": "stdout"
        }
      ]
    },
    {
      "cell_type": "code",
      "metadata": {
        "id": "7lAUomYeer3B"
      },
      "source": [
        "#question what missing\n",
        "from spacy.tokens import Span\n",
        "#get the hash value of the ORG entity label\n",
        "ORG=doc.vocab.strings[u\"ORG\"]\n",
        "#create a span for the new entity \n",
        "new_ent=Span(doc,0,1,label=ORG)\n",
        "#Add the entity to the existing Doc object\n",
        "doc.ents=list(doc.ents)+[new_ent]"
      ],
      "execution_count": 57,
      "outputs": []
    },
    {
      "cell_type": "code",
      "metadata": {
        "colab": {
          "base_uri": "https://localhost:8080/"
        },
        "id": "NS_DHm7mfj2B",
        "outputId": "4db2e01c-7c88-4202-c5bf-fd285cd2b89c"
      },
      "source": [
        "doc=nlp(u\"our company plans to introduce a new vaccum cleaner \"u\"if succesful the vaccum cleaner will be our first product\")\n",
        "show_ents(doc)"
      ],
      "execution_count": 58,
      "outputs": [
        {
          "output_type": "stream",
          "text": [
            "vaccum-ORG-Companies, agencies, institutions, etc.\n",
            "vaccum-ORG-Companies, agencies, institutions, etc.\n",
            "first-ORDINAL-\"first\", \"second\", etc.\n"
          ],
          "name": "stdout"
        }
      ]
    },
    {
      "cell_type": "markdown",
      "metadata": {
        "id": "xkS-Lf4ChKcX"
      },
      "source": [
        "Counting NER"
      ]
    },
    {
      "cell_type": "code",
      "metadata": {
        "colab": {
          "base_uri": "https://localhost:8080/"
        },
        "id": "kI8YrTnphNYJ",
        "outputId": "cc932046-579b-4dda-fd5f-2b1217784760"
      },
      "source": [
        "doc=nlp(u\"originally priced at $29.9 ,the sweater was marked down to five  dollars\")\n",
        "show_ents(doc)"
      ],
      "execution_count": 63,
      "outputs": [
        {
          "output_type": "stream",
          "text": [
            "29.9-MONEY-Monetary values, including unit\n",
            "five  dollars-MONEY-Monetary values, including unit\n"
          ],
          "name": "stdout"
        }
      ]
    },
    {
      "cell_type": "code",
      "metadata": {
        "colab": {
          "base_uri": "https://localhost:8080/"
        },
        "id": "EtHQryN5hkUu",
        "outputId": "3e5678ed-1fc2-4d4b-de4b-db16a6dfc768"
      },
      "source": [
        "len([ent for ent in doc.ents if ent.label_==\"MONEY\"])"
      ],
      "execution_count": 64,
      "outputs": [
        {
          "output_type": "execute_result",
          "data": {
            "text/plain": [
              "2"
            ]
          },
          "metadata": {
            "tags": []
          },
          "execution_count": 64
        }
      ]
    },
    {
      "cell_type": "markdown",
      "metadata": {
        "id": "lVBtKlKBh_CP"
      },
      "source": [
        "Noun chunks"
      ]
    },
    {
      "cell_type": "code",
      "metadata": {
        "colab": {
          "base_uri": "https://localhost:8080/"
        },
        "id": "T8cFvx8yiAce",
        "outputId": "52173f14-7e8d-483b-d229-4ad082e2977e"
      },
      "source": [
        "doc=nlp(u\"Autonomous cars shift insurence liability towards manufactures\")\n",
        "for chunk in doc.noun_chunks:\n",
        "  print(chunk.text+'-'+chunk.root.text+'-'+chunk.root.dep_+'_'+chunk.root.head.text)"
      ],
      "execution_count": 67,
      "outputs": [
        {
          "output_type": "stream",
          "text": [
            "Autonomous cars-cars-nsubj_shift\n",
            "insurence liability-liability-dobj_shift\n",
            "manufactures-manufactures-pobj_towards\n"
          ],
          "name": "stdout"
        }
      ]
    },
    {
      "cell_type": "code",
      "metadata": {
        "id": "c-opCr5li7XC"
      },
      "source": [
        ""
      ],
      "execution_count": null,
      "outputs": []
    }
  ]
}