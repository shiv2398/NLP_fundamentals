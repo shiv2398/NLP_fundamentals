{
  "nbformat": 4,
  "nbformat_minor": 0,
  "metadata": {
    "colab": {
      "name": "Text_Preprocessing_2.ipynb",
      "provenance": []
    },
    "kernelspec": {
      "display_name": "Python 3",
      "name": "python3"
    },
    "language_info": {
      "name": "python"
    }
  },
  "cells": [
    {
      "cell_type": "code",
      "metadata": {
        "id": "CUvevbVCfyL3"
      },
      "source": [
        "import pandas as pd\n",
        "import numpy as np\n",
        "import spacy \n",
        "import re\n"
      ],
      "execution_count": 104,
      "outputs": []
    },
    {
      "cell_type": "code",
      "metadata": {
        "id": "UOBQsMWXhm0W"
      },
      "source": [
        "from spacy.lang.en.stop_words import STOP_WORDS as stopwords"
      ],
      "execution_count": 105,
      "outputs": []
    },
    {
      "cell_type": "code",
      "metadata": {
        "id": "C_0VsPcRgPBS"
      },
      "source": [
        "data=pd.read_csv(\"twitter4000.csv\",encoding=\"latin1\")"
      ],
      "execution_count": 119,
      "outputs": []
    },
    {
      "cell_type": "code",
      "metadata": {
        "colab": {
          "base_uri": "https://localhost:8080/",
          "height": 424
        },
        "id": "bSQ38zyOicGe",
        "outputId": "2a416227-8bd0-4f49-e900-fb237dddd7e1"
      },
      "source": [
        "data"
      ],
      "execution_count": 120,
      "outputs": [
        {
          "output_type": "execute_result",
          "data": {
            "text/html": [
              "<div>\n",
              "<style scoped>\n",
              "    .dataframe tbody tr th:only-of-type {\n",
              "        vertical-align: middle;\n",
              "    }\n",
              "\n",
              "    .dataframe tbody tr th {\n",
              "        vertical-align: top;\n",
              "    }\n",
              "\n",
              "    .dataframe thead th {\n",
              "        text-align: right;\n",
              "    }\n",
              "</style>\n",
              "<table border=\"1\" class=\"dataframe\">\n",
              "  <thead>\n",
              "    <tr style=\"text-align: right;\">\n",
              "      <th></th>\n",
              "      <th>twitts</th>\n",
              "      <th>sentiment</th>\n",
              "    </tr>\n",
              "  </thead>\n",
              "  <tbody>\n",
              "    <tr>\n",
              "      <th>0</th>\n",
              "      <td>is bored and wants to watch a movie  any sugge...</td>\n",
              "      <td>0</td>\n",
              "    </tr>\n",
              "    <tr>\n",
              "      <th>1</th>\n",
              "      <td>back in miami.  waiting to unboard ship</td>\n",
              "      <td>0</td>\n",
              "    </tr>\n",
              "    <tr>\n",
              "      <th>2</th>\n",
              "      <td>@misskpey awwww dnt dis brng bak memoriessss, ...</td>\n",
              "      <td>0</td>\n",
              "    </tr>\n",
              "    <tr>\n",
              "      <th>3</th>\n",
              "      <td>ughhh i am so tired  blahhhhhhhhh</td>\n",
              "      <td>0</td>\n",
              "    </tr>\n",
              "    <tr>\n",
              "      <th>4</th>\n",
              "      <td>@mandagoforth me bad! It's funny though. Zacha...</td>\n",
              "      <td>0</td>\n",
              "    </tr>\n",
              "    <tr>\n",
              "      <th>...</th>\n",
              "      <td>...</td>\n",
              "      <td>...</td>\n",
              "    </tr>\n",
              "    <tr>\n",
              "      <th>3995</th>\n",
              "      <td>i just graduated</td>\n",
              "      <td>1</td>\n",
              "    </tr>\n",
              "    <tr>\n",
              "      <th>3996</th>\n",
              "      <td>Templating works; it all has to be done</td>\n",
              "      <td>1</td>\n",
              "    </tr>\n",
              "    <tr>\n",
              "      <th>3997</th>\n",
              "      <td>mommy just brought me starbucks</td>\n",
              "      <td>1</td>\n",
              "    </tr>\n",
              "    <tr>\n",
              "      <th>3998</th>\n",
              "      <td>@omarepps watching you on a House re-run...lov...</td>\n",
              "      <td>1</td>\n",
              "    </tr>\n",
              "    <tr>\n",
              "      <th>3999</th>\n",
              "      <td>Thanks for trying to make me smile I'll make y...</td>\n",
              "      <td>1</td>\n",
              "    </tr>\n",
              "  </tbody>\n",
              "</table>\n",
              "<p>4000 rows × 2 columns</p>\n",
              "</div>"
            ],
            "text/plain": [
              "                                                 twitts  sentiment\n",
              "0     is bored and wants to watch a movie  any sugge...          0\n",
              "1              back in miami.  waiting to unboard ship           0\n",
              "2     @misskpey awwww dnt dis brng bak memoriessss, ...          0\n",
              "3                     ughhh i am so tired  blahhhhhhhhh          0\n",
              "4     @mandagoforth me bad! It's funny though. Zacha...          0\n",
              "...                                                 ...        ...\n",
              "3995                                  i just graduated           1\n",
              "3996          Templating works; it all has to be done            1\n",
              "3997                   mommy just brought me starbucks           1\n",
              "3998  @omarepps watching you on a House re-run...lov...          1\n",
              "3999  Thanks for trying to make me smile I'll make y...          1\n",
              "\n",
              "[4000 rows x 2 columns]"
            ]
          },
          "metadata": {
            "tags": []
          },
          "execution_count": 120
        }
      ]
    },
    {
      "cell_type": "markdown",
      "metadata": {
        "id": "1uzR9YntiQtu"
      },
      "source": [
        "**Count URLs and Remove it**"
      ]
    },
    {
      "cell_type": "code",
      "metadata": {
        "id": "I01hGDfIgpyz"
      },
      "source": [
        "data[\"url_flags\"]=data[\"twitts\"].apply(lambda x: len(re.findall(r'(http|https|ftp|ssh)://(?:[a-zA-Z]|[0-9]|[$-_@.&+]|[!*\\(\\),]|(?:%[0-9a-fA-F][0-9a-fA-F]))+',x)))"
      ],
      "execution_count": 121,
      "outputs": []
    },
    {
      "cell_type": "code",
      "metadata": {
        "colab": {
          "base_uri": "https://localhost:8080/",
          "height": 206
        },
        "id": "svdavrTxkS6W",
        "outputId": "3925bf92-388f-446b-f00b-e173efea03fb"
      },
      "source": [
        "data[data[\"url_flags\"]>0].sample(5)"
      ],
      "execution_count": 122,
      "outputs": [
        {
          "output_type": "execute_result",
          "data": {
            "text/html": [
              "<div>\n",
              "<style scoped>\n",
              "    .dataframe tbody tr th:only-of-type {\n",
              "        vertical-align: middle;\n",
              "    }\n",
              "\n",
              "    .dataframe tbody tr th {\n",
              "        vertical-align: top;\n",
              "    }\n",
              "\n",
              "    .dataframe thead th {\n",
              "        text-align: right;\n",
              "    }\n",
              "</style>\n",
              "<table border=\"1\" class=\"dataframe\">\n",
              "  <thead>\n",
              "    <tr style=\"text-align: right;\">\n",
              "      <th></th>\n",
              "      <th>twitts</th>\n",
              "      <th>sentiment</th>\n",
              "      <th>url_flags</th>\n",
              "    </tr>\n",
              "  </thead>\n",
              "  <tbody>\n",
              "    <tr>\n",
              "      <th>2620</th>\n",
              "      <td>#eric in the clear! latest @VeronicaDLCruz twl...</td>\n",
              "      <td>1</td>\n",
              "      <td>1</td>\n",
              "    </tr>\n",
              "    <tr>\n",
              "      <th>3769</th>\n",
              "      <td>is With her sister arianne  http://plurk.com/p...</td>\n",
              "      <td>1</td>\n",
              "      <td>1</td>\n",
              "    </tr>\n",
              "    <tr>\n",
              "      <th>2467</th>\n",
              "      <td>Woot.going to gibalter.  http://myloc.me/2bZ6</td>\n",
              "      <td>1</td>\n",
              "      <td>1</td>\n",
              "    </tr>\n",
              "    <tr>\n",
              "      <th>3627</th>\n",
              "      <td>Oh, do I love your choice in music, @MsKittyCu...</td>\n",
              "      <td>1</td>\n",
              "      <td>1</td>\n",
              "    </tr>\n",
              "    <tr>\n",
              "      <th>899</th>\n",
              "      <td>My dog has been missing since Wednesday night ...</td>\n",
              "      <td>0</td>\n",
              "      <td>1</td>\n",
              "    </tr>\n",
              "  </tbody>\n",
              "</table>\n",
              "</div>"
            ],
            "text/plain": [
              "                                                 twitts  sentiment  url_flags\n",
              "2620  #eric in the clear! latest @VeronicaDLCruz twl...          1          1\n",
              "3769  is With her sister arianne  http://plurk.com/p...          1          1\n",
              "2467      Woot.going to gibalter.  http://myloc.me/2bZ6          1          1\n",
              "3627  Oh, do I love your choice in music, @MsKittyCu...          1          1\n",
              "899   My dog has been missing since Wednesday night ...          0          1"
            ]
          },
          "metadata": {
            "tags": []
          },
          "execution_count": 122
        }
      ]
    },
    {
      "cell_type": "code",
      "metadata": {
        "id": "trv86u6ikpMg"
      },
      "source": [
        "#removing urls\n",
        "data[\"url_flags\"]=data[\"twitts\"].apply(lambda x: len(re.sub(r'(http|https|ftp|ssh)://(?:[a-zA-Z]|[0-9]|[$-_@.&+]|[!*\\(\\),]|(?:%[0-9a-fA-F][0-9a-fA-F]))+',\"\",x)))"
      ],
      "execution_count": 123,
      "outputs": []
    },
    {
      "cell_type": "code",
      "metadata": {
        "colab": {
          "base_uri": "https://localhost:8080/",
          "height": 206
        },
        "id": "3rCVv7gQkhmL",
        "outputId": "2398166f-4dad-4c3e-8105-7bda6e3d2110"
      },
      "source": [
        "data.sample(5)"
      ],
      "execution_count": 124,
      "outputs": [
        {
          "output_type": "execute_result",
          "data": {
            "text/html": [
              "<div>\n",
              "<style scoped>\n",
              "    .dataframe tbody tr th:only-of-type {\n",
              "        vertical-align: middle;\n",
              "    }\n",
              "\n",
              "    .dataframe tbody tr th {\n",
              "        vertical-align: top;\n",
              "    }\n",
              "\n",
              "    .dataframe thead th {\n",
              "        text-align: right;\n",
              "    }\n",
              "</style>\n",
              "<table border=\"1\" class=\"dataframe\">\n",
              "  <thead>\n",
              "    <tr style=\"text-align: right;\">\n",
              "      <th></th>\n",
              "      <th>twitts</th>\n",
              "      <th>sentiment</th>\n",
              "      <th>url_flags</th>\n",
              "    </tr>\n",
              "  </thead>\n",
              "  <tbody>\n",
              "    <tr>\n",
              "      <th>1707</th>\n",
              "      <td>Another dull fest in the F1 again</td>\n",
              "      <td>0</td>\n",
              "      <td>34</td>\n",
              "    </tr>\n",
              "    <tr>\n",
              "      <th>3199</th>\n",
              "      <td>yaaaaay! facebook works!</td>\n",
              "      <td>1</td>\n",
              "      <td>25</td>\n",
              "    </tr>\n",
              "    <tr>\n",
              "      <th>1308</th>\n",
              "      <td>@ladyleolove nah no nerves hit,seems ur trying...</td>\n",
              "      <td>0</td>\n",
              "      <td>132</td>\n",
              "    </tr>\n",
              "    <tr>\n",
              "      <th>3588</th>\n",
              "      <td>@ladygaga Listening to your album right now. B...</td>\n",
              "      <td>1</td>\n",
              "      <td>66</td>\n",
              "    </tr>\n",
              "    <tr>\n",
              "      <th>2510</th>\n",
              "      <td>@dcamacho now i got @TheCigarSpy followed also...</td>\n",
              "      <td>1</td>\n",
              "      <td>106</td>\n",
              "    </tr>\n",
              "  </tbody>\n",
              "</table>\n",
              "</div>"
            ],
            "text/plain": [
              "                                                 twitts  sentiment  url_flags\n",
              "1707                 Another dull fest in the F1 again           0         34\n",
              "3199                          yaaaaay! facebook works!           1         25\n",
              "1308  @ladyleolove nah no nerves hit,seems ur trying...          0        132\n",
              "3588  @ladygaga Listening to your album right now. B...          1         66\n",
              "2510  @dcamacho now i got @TheCigarSpy followed also...          1        106"
            ]
          },
          "metadata": {
            "tags": []
          },
          "execution_count": 124
        }
      ]
    },
    {
      "cell_type": "markdown",
      "metadata": {
        "id": "ZtOw_oQPgqhX"
      },
      "source": [
        "\n",
        "\n",
        "# **Remove Special Character or Punctuation**"
      ]
    },
    {
      "cell_type": "code",
      "metadata": {
        "id": "qaW_z1ABima_",
        "colab": {
          "base_uri": "https://localhost:8080/",
          "height": 424
        },
        "outputId": "5948046b-3285-4417-b4b9-078c31a32fb5"
      },
      "source": [
        "data[data[\"twitts\"].str.contains(\"rt\")]#remove retweets"
      ],
      "execution_count": 125,
      "outputs": [
        {
          "output_type": "execute_result",
          "data": {
            "text/html": [
              "<div>\n",
              "<style scoped>\n",
              "    .dataframe tbody tr th:only-of-type {\n",
              "        vertical-align: middle;\n",
              "    }\n",
              "\n",
              "    .dataframe tbody tr th {\n",
              "        vertical-align: top;\n",
              "    }\n",
              "\n",
              "    .dataframe thead th {\n",
              "        text-align: right;\n",
              "    }\n",
              "</style>\n",
              "<table border=\"1\" class=\"dataframe\">\n",
              "  <thead>\n",
              "    <tr style=\"text-align: right;\">\n",
              "      <th></th>\n",
              "      <th>twitts</th>\n",
              "      <th>sentiment</th>\n",
              "      <th>url_flags</th>\n",
              "    </tr>\n",
              "  </thead>\n",
              "  <tbody>\n",
              "    <tr>\n",
              "      <th>4</th>\n",
              "      <td>@mandagoforth me bad! It's funny though. Zacha...</td>\n",
              "      <td>0</td>\n",
              "      <td>142</td>\n",
              "    </tr>\n",
              "    <tr>\n",
              "      <th>23</th>\n",
              "      <td>ut oh, I wonder if the RAM on the desktop is s...</td>\n",
              "      <td>0</td>\n",
              "      <td>60</td>\n",
              "    </tr>\n",
              "    <tr>\n",
              "      <th>59</th>\n",
              "      <td>@paulmccourt dunno what sky you're looking at!...</td>\n",
              "      <td>0</td>\n",
              "      <td>95</td>\n",
              "    </tr>\n",
              "    <tr>\n",
              "      <th>75</th>\n",
              "      <td>Im back home in Belfast  im realli tired thoug...</td>\n",
              "      <td>0</td>\n",
              "      <td>106</td>\n",
              "    </tr>\n",
              "    <tr>\n",
              "      <th>81</th>\n",
              "      <td>@lilmonkee987 i know what you mean... i feel s...</td>\n",
              "      <td>0</td>\n",
              "      <td>59</td>\n",
              "    </tr>\n",
              "    <tr>\n",
              "      <th>...</th>\n",
              "      <td>...</td>\n",
              "      <td>...</td>\n",
              "      <td>...</td>\n",
              "    </tr>\n",
              "    <tr>\n",
              "      <th>3913</th>\n",
              "      <td>For The Press So After She Recovered She Kille...</td>\n",
              "      <td>1</td>\n",
              "      <td>124</td>\n",
              "    </tr>\n",
              "    <tr>\n",
              "      <th>3919</th>\n",
              "      <td>earned her CPR &amp;amp; First Aid certifications!</td>\n",
              "      <td>1</td>\n",
              "      <td>47</td>\n",
              "    </tr>\n",
              "    <tr>\n",
              "      <th>3945</th>\n",
              "      <td>@teciav &amp;quot;i look high, i look low, i look ...</td>\n",
              "      <td>1</td>\n",
              "      <td>129</td>\n",
              "    </tr>\n",
              "    <tr>\n",
              "      <th>3951</th>\n",
              "      <td>I am soo very parched. And hungry. Oh and I'm ...</td>\n",
              "      <td>1</td>\n",
              "      <td>108</td>\n",
              "    </tr>\n",
              "    <tr>\n",
              "      <th>3986</th>\n",
              "      <td>@countroshculla yeah..needed to get up early.....</td>\n",
              "      <td>1</td>\n",
              "      <td>79</td>\n",
              "    </tr>\n",
              "  </tbody>\n",
              "</table>\n",
              "<p>379 rows × 3 columns</p>\n",
              "</div>"
            ],
            "text/plain": [
              "                                                 twitts  sentiment  url_flags\n",
              "4     @mandagoforth me bad! It's funny though. Zacha...          0        142\n",
              "23    ut oh, I wonder if the RAM on the desktop is s...          0         60\n",
              "59    @paulmccourt dunno what sky you're looking at!...          0         95\n",
              "75    Im back home in Belfast  im realli tired thoug...          0        106\n",
              "81    @lilmonkee987 i know what you mean... i feel s...          0         59\n",
              "...                                                 ...        ...        ...\n",
              "3913  For The Press So After She Recovered She Kille...          1        124\n",
              "3919    earned her CPR &amp; First Aid certifications!           1         47\n",
              "3945  @teciav &quot;i look high, i look low, i look ...          1        129\n",
              "3951  I am soo very parched. And hungry. Oh and I'm ...          1        108\n",
              "3986  @countroshculla yeah..needed to get up early.....          1         79\n",
              "\n",
              "[379 rows x 3 columns]"
            ]
          },
          "metadata": {
            "tags": []
          },
          "execution_count": 125
        }
      ]
    },
    {
      "cell_type": "code",
      "metadata": {
        "id": "7fQLgmq_iJ3n"
      },
      "source": [
        "data[\"twitts\"]=data[\"twitts\"].apply(lambda x:re.sub(r'[^\\w ]+','',x))"
      ],
      "execution_count": 130,
      "outputs": []
    },
    {
      "cell_type": "code",
      "metadata": {
        "colab": {
          "base_uri": "https://localhost:8080/",
          "height": 206
        },
        "id": "VxNaufuOiUzb",
        "outputId": "2a356646-6c1f-4072-ee37-945876256ba6"
      },
      "source": [
        "data.sample(5)"
      ],
      "execution_count": 131,
      "outputs": [
        {
          "output_type": "execute_result",
          "data": {
            "text/html": [
              "<div>\n",
              "<style scoped>\n",
              "    .dataframe tbody tr th:only-of-type {\n",
              "        vertical-align: middle;\n",
              "    }\n",
              "\n",
              "    .dataframe tbody tr th {\n",
              "        vertical-align: top;\n",
              "    }\n",
              "\n",
              "    .dataframe thead th {\n",
              "        text-align: right;\n",
              "    }\n",
              "</style>\n",
              "<table border=\"1\" class=\"dataframe\">\n",
              "  <thead>\n",
              "    <tr style=\"text-align: right;\">\n",
              "      <th></th>\n",
              "      <th>twitts</th>\n",
              "      <th>sentiment</th>\n",
              "      <th>url_flags</th>\n",
              "    </tr>\n",
              "  </thead>\n",
              "  <tbody>\n",
              "    <tr>\n",
              "      <th>2302</th>\n",
              "      <td>will now party after working hard today</td>\n",
              "      <td>1</td>\n",
              "      <td>41</td>\n",
              "    </tr>\n",
              "    <tr>\n",
              "      <th>2595</th>\n",
              "      <td>twittopher thats better good to hear you two a...</td>\n",
              "      <td>1</td>\n",
              "      <td>90</td>\n",
              "    </tr>\n",
              "    <tr>\n",
              "      <th>1907</th>\n",
              "      <td>JillianValentin i dont think you kno who i am ...</td>\n",
              "      <td>0</td>\n",
              "      <td>126</td>\n",
              "    </tr>\n",
              "    <tr>\n",
              "      <th>2467</th>\n",
              "      <td>Wootgoing to gibalter httpmylocme2bZ6</td>\n",
              "      <td>1</td>\n",
              "      <td>25</td>\n",
              "    </tr>\n",
              "    <tr>\n",
              "      <th>1282</th>\n",
              "      <td>My hair is bad today</td>\n",
              "      <td>0</td>\n",
              "      <td>21</td>\n",
              "    </tr>\n",
              "  </tbody>\n",
              "</table>\n",
              "</div>"
            ],
            "text/plain": [
              "                                                 twitts  sentiment  url_flags\n",
              "2302           will now party after working hard today           1         41\n",
              "2595  twittopher thats better good to hear you two a...          1         90\n",
              "1907  JillianValentin i dont think you kno who i am ...          0        126\n",
              "2467              Wootgoing to gibalter httpmylocme2bZ6          1         25\n",
              "1282                              My hair is bad today           0         21"
            ]
          },
          "metadata": {
            "tags": []
          },
          "execution_count": 131
        }
      ]
    },
    {
      "cell_type": "code",
      "metadata": {
        "id": "h-EjsJ_d09f-"
      },
      "source": [
        ""
      ],
      "execution_count": 131,
      "outputs": []
    },
    {
      "cell_type": "markdown",
      "metadata": {
        "id": "T0x5fm9Mhgcz"
      },
      "source": [
        "**Remove HTML tags**"
      ]
    },
    {
      "cell_type": "code",
      "metadata": {
        "id": "BcIIgwsyh4on"
      },
      "source": [
        "from bs4 import BeautifulSoup"
      ],
      "execution_count": 132,
      "outputs": []
    },
    {
      "cell_type": "code",
      "metadata": {
        "id": "-LfuKFgui-XN",
        "colab": {
          "base_uri": "https://localhost:8080/",
          "height": 35
        },
        "outputId": "2128f44a-075a-4010-d177-756f56130578"
      },
      "source": [
        "#if\n",
        "x=\"<html><h1>thanks for watching </h1></html>\"\n",
        "\n",
        "\n",
        "x.replace(\"<html><h1>\",\" \").replace(\"</h1></html>\",\" \")# but not recomended\n",
        "\n"
      ],
      "execution_count": 133,
      "outputs": [
        {
          "output_type": "execute_result",
          "data": {
            "application/vnd.google.colaboratory.intrinsic+json": {
              "type": "string"
            },
            "text/plain": [
              "' thanks for watching  '"
            ]
          },
          "metadata": {
            "tags": []
          },
          "execution_count": 133
        }
      ]
    },
    {
      "cell_type": "code",
      "metadata": {
        "colab": {
          "base_uri": "https://localhost:8080/",
          "height": 35
        },
        "id": "MygSBbLOjjNU",
        "outputId": "4e381068-0b0e-4d44-e8c4-a137ee89c352"
      },
      "source": [
        "BeautifulSoup(x,\"lxml\").get_text().strip()"
      ],
      "execution_count": 134,
      "outputs": [
        {
          "output_type": "execute_result",
          "data": {
            "application/vnd.google.colaboratory.intrinsic+json": {
              "type": "string"
            },
            "text/plain": [
              "'thanks for watching'"
            ]
          },
          "metadata": {
            "tags": []
          },
          "execution_count": 134
        }
      ]
    },
    {
      "cell_type": "code",
      "metadata": {
        "id": "koZ3p8tpkBfY",
        "colab": {
          "base_uri": "https://localhost:8080/"
        },
        "outputId": "4fba932d-e542-43be-81bf-4ae031d97829"
      },
      "source": [
        "  %%time\n",
        "  data[\"twitts\"]=data[\"twitts\"].apply(lambda x:BeautifulSoup(x,\"lxml\").get_text().strip())"
      ],
      "execution_count": 135,
      "outputs": [
        {
          "output_type": "stream",
          "text": [
            "CPU times: user 976 ms, sys: 69.7 ms, total: 1.05 s\n",
            "Wall time: 1.32 s\n"
          ],
          "name": "stdout"
        }
      ]
    },
    {
      "cell_type": "code",
      "metadata": {
        "colab": {
          "base_uri": "https://localhost:8080/",
          "height": 206
        },
        "id": "x0e8aO9Ev65R",
        "outputId": "f14d0b89-ddbd-42e3-af8f-1b2767c5b3c1"
      },
      "source": [
        "data.sample(5)"
      ],
      "execution_count": 136,
      "outputs": [
        {
          "output_type": "execute_result",
          "data": {
            "text/html": [
              "<div>\n",
              "<style scoped>\n",
              "    .dataframe tbody tr th:only-of-type {\n",
              "        vertical-align: middle;\n",
              "    }\n",
              "\n",
              "    .dataframe tbody tr th {\n",
              "        vertical-align: top;\n",
              "    }\n",
              "\n",
              "    .dataframe thead th {\n",
              "        text-align: right;\n",
              "    }\n",
              "</style>\n",
              "<table border=\"1\" class=\"dataframe\">\n",
              "  <thead>\n",
              "    <tr style=\"text-align: right;\">\n",
              "      <th></th>\n",
              "      <th>twitts</th>\n",
              "      <th>sentiment</th>\n",
              "      <th>url_flags</th>\n",
              "    </tr>\n",
              "  </thead>\n",
              "  <tbody>\n",
              "    <tr>\n",
              "      <th>2824</th>\n",
              "      <td>Just got home from Winco</td>\n",
              "      <td>1</td>\n",
              "      <td>25</td>\n",
              "    </tr>\n",
              "    <tr>\n",
              "      <th>1365</th>\n",
              "      <td>Commercials are soooo annoyingggggg</td>\n",
              "      <td>0</td>\n",
              "      <td>36</td>\n",
              "    </tr>\n",
              "    <tr>\n",
              "      <th>3472</th>\n",
              "      <td>rachelguglielmo most excellent I got to do a l...</td>\n",
              "      <td>1</td>\n",
              "      <td>133</td>\n",
              "    </tr>\n",
              "    <tr>\n",
              "      <th>1887</th>\n",
              "      <td>andddd its time for bed i still havent caught ...</td>\n",
              "      <td>0</td>\n",
              "      <td>102</td>\n",
              "    </tr>\n",
              "    <tr>\n",
              "      <th>446</th>\n",
              "      <td>stePRINCE life will be better soon</td>\n",
              "      <td>0</td>\n",
              "      <td>37</td>\n",
              "    </tr>\n",
              "  </tbody>\n",
              "</table>\n",
              "</div>"
            ],
            "text/plain": [
              "                                                 twitts  sentiment  url_flags\n",
              "2824                           Just got home from Winco          1         25\n",
              "1365                Commercials are soooo annoyingggggg          0         36\n",
              "3472  rachelguglielmo most excellent I got to do a l...          1        133\n",
              "1887  andddd its time for bed i still havent caught ...          0        102\n",
              "446                  stePRINCE life will be better soon          0         37"
            ]
          },
          "metadata": {
            "tags": []
          },
          "execution_count": 136
        }
      ]
    },
    {
      "cell_type": "markdown",
      "metadata": {
        "id": "YjreM0EIiuHR"
      },
      "source": [
        "### Remove accented chars"
      ]
    },
    {
      "cell_type": "code",
      "metadata": {
        "id": "bOKflijCkJQd"
      },
      "source": [
        "import unicodedata "
      ],
      "execution_count": 137,
      "outputs": []
    },
    {
      "cell_type": "code",
      "metadata": {
        "id": "Kl2jL1BdkVSK"
      },
      "source": [
        "def remove_accented_chars(x):\n",
        "  x=unicodedata.normalize(\"NFKD\",x).encode(\"ascii\",\"ignore\").decode(\"utf-8\",\"ignore\")\n",
        "  return x\n"
      ],
      "execution_count": 138,
      "outputs": []
    },
    {
      "cell_type": "markdown",
      "metadata": {
        "id": "Ht_AaPwSjgcr"
      },
      "source": [
        "### **Convert into base or root form of word**"
      ]
    },
    {
      "cell_type": "code",
      "metadata": {
        "id": "PZWUvmOdwqMm"
      },
      "source": [
        "nlp=spacy.load(\"en_core_web_sm\")"
      ],
      "execution_count": 139,
      "outputs": []
    },
    {
      "cell_type": "code",
      "metadata": {
        "id": "agwhfonqwqPY"
      },
      "source": [
        "x=\"this is chocolates what is  times? this is balls\""
      ],
      "execution_count": 140,
      "outputs": []
    },
    {
      "cell_type": "code",
      "metadata": {
        "id": "yf-DV8DqkyEq"
      },
      "source": [
        "\n",
        "def make_to_base(x):\n",
        "  x=str(x)\n",
        "  x_list=[]\n",
        "  doc=nlp(x)\n",
        "\n",
        "  for token in doc:\n",
        "    lemma=token.lemma_\n",
        "    if lemma== \"-PRON-\" or lemma==\"be\":\n",
        "       lemma=token.text\n",
        "    x_list.append(lemma)\n",
        "  return \" \".join(x_list)\n"
      ],
      "execution_count": 145,
      "outputs": []
    },
    {
      "cell_type": "code",
      "metadata": {
        "colab": {
          "base_uri": "https://localhost:8080/",
          "height": 35
        },
        "id": "rg4HbjR-kwIz",
        "outputId": "27bcbf7d-03fb-4cd5-b2f2-60881c2b9e26"
      },
      "source": [
        "make_to_base(x)#base form of a word"
      ],
      "execution_count": 146,
      "outputs": [
        {
          "output_type": "execute_result",
          "data": {
            "application/vnd.google.colaboratory.intrinsic+json": {
              "type": "string"
            },
            "text/plain": [
              "'this is chocolate what is   time ? this is ball'"
            ]
          },
          "metadata": {
            "tags": []
          },
          "execution_count": 146
        }
      ]
    },
    {
      "cell_type": "code",
      "metadata": {
        "id": "J11XFJN8lN7v"
      },
      "source": [
        "data['twitts']=data[\"twitts\"].apply(lambda x:make_to_base(x))"
      ],
      "execution_count": 147,
      "outputs": []
    },
    {
      "cell_type": "code",
      "metadata": {
        "colab": {
          "base_uri": "https://localhost:8080/",
          "height": 424
        },
        "id": "fFwUFlWslVaJ",
        "outputId": "320d3c5b-7cb1-470e-ee2f-e2b5bc5119ce"
      },
      "source": [
        "data"
      ],
      "execution_count": 144,
      "outputs": [
        {
          "output_type": "execute_result",
          "data": {
            "text/html": [
              "<div>\n",
              "<style scoped>\n",
              "    .dataframe tbody tr th:only-of-type {\n",
              "        vertical-align: middle;\n",
              "    }\n",
              "\n",
              "    .dataframe tbody tr th {\n",
              "        vertical-align: top;\n",
              "    }\n",
              "\n",
              "    .dataframe thead th {\n",
              "        text-align: right;\n",
              "    }\n",
              "</style>\n",
              "<table border=\"1\" class=\"dataframe\">\n",
              "  <thead>\n",
              "    <tr style=\"text-align: right;\">\n",
              "      <th></th>\n",
              "      <th>twitts</th>\n",
              "      <th>sentiment</th>\n",
              "      <th>url_flags</th>\n",
              "    </tr>\n",
              "  </thead>\n",
              "  <tbody>\n",
              "    <tr>\n",
              "      <th>0</th>\n",
              "      <td>is bored and want to watch a movie any suggestion</td>\n",
              "      <td>0</td>\n",
              "      <td>53</td>\n",
              "    </tr>\n",
              "    <tr>\n",
              "      <th>1</th>\n",
              "      <td>back in miami wait to unboard ship</td>\n",
              "      <td>0</td>\n",
              "      <td>40</td>\n",
              "    </tr>\n",
              "    <tr>\n",
              "      <th>2</th>\n",
              "      <td>misskpey awwww dnt dis brng bak memoriessss -P...</td>\n",
              "      <td>0</td>\n",
              "      <td>66</td>\n",
              "    </tr>\n",
              "    <tr>\n",
              "      <th>3</th>\n",
              "      <td>ughhh i am so tired blahhhhhhhhh</td>\n",
              "      <td>0</td>\n",
              "      <td>33</td>\n",
              "    </tr>\n",
              "    <tr>\n",
              "      <th>4</th>\n",
              "      <td>mandagoforth -PRON- bad -PRON- funny though Za...</td>\n",
              "      <td>0</td>\n",
              "      <td>142</td>\n",
              "    </tr>\n",
              "    <tr>\n",
              "      <th>...</th>\n",
              "      <td>...</td>\n",
              "      <td>...</td>\n",
              "      <td>...</td>\n",
              "    </tr>\n",
              "    <tr>\n",
              "      <th>3995</th>\n",
              "      <td>i just graduate</td>\n",
              "      <td>1</td>\n",
              "      <td>17</td>\n",
              "    </tr>\n",
              "    <tr>\n",
              "      <th>3996</th>\n",
              "      <td>templating work -PRON- all have to be do</td>\n",
              "      <td>1</td>\n",
              "      <td>41</td>\n",
              "    </tr>\n",
              "    <tr>\n",
              "      <th>3997</th>\n",
              "      <td>mommy just bring -PRON- starbuck</td>\n",
              "      <td>1</td>\n",
              "      <td>32</td>\n",
              "    </tr>\n",
              "    <tr>\n",
              "      <th>3998</th>\n",
              "      <td>omarepps watch -PRON- on a House rerunlovin -P...</td>\n",
              "      <td>1</td>\n",
              "      <td>53</td>\n",
              "    </tr>\n",
              "    <tr>\n",
              "      <th>3999</th>\n",
              "      <td>thank for try to make -PRON- smile Ill make -P...</td>\n",
              "      <td>1</td>\n",
              "      <td>79</td>\n",
              "    </tr>\n",
              "  </tbody>\n",
              "</table>\n",
              "<p>4000 rows × 3 columns</p>\n",
              "</div>"
            ],
            "text/plain": [
              "                                                 twitts  sentiment  url_flags\n",
              "0     is bored and want to watch a movie any suggestion          0         53\n",
              "1                    back in miami wait to unboard ship          0         40\n",
              "2     misskpey awwww dnt dis brng bak memoriessss -P...          0         66\n",
              "3                      ughhh i am so tired blahhhhhhhhh          0         33\n",
              "4     mandagoforth -PRON- bad -PRON- funny though Za...          0        142\n",
              "...                                                 ...        ...        ...\n",
              "3995                                    i just graduate          1         17\n",
              "3996           templating work -PRON- all have to be do          1         41\n",
              "3997                   mommy just bring -PRON- starbuck          1         32\n",
              "3998  omarepps watch -PRON- on a House rerunlovin -P...          1         53\n",
              "3999  thank for try to make -PRON- smile Ill make -P...          1         79\n",
              "\n",
              "[4000 rows x 3 columns]"
            ]
          },
          "metadata": {
            "tags": []
          },
          "execution_count": 144
        }
      ]
    },
    {
      "cell_type": "markdown",
      "metadata": {
        "id": "ULAsdxg_lPF7"
      },
      "source": [
        "**Remove common words**"
      ]
    },
    {
      "cell_type": "code",
      "metadata": {
        "id": "A4yFp_bJlexO"
      },
      "source": [
        "text=\" \".join(data[\"twitts\"])"
      ],
      "execution_count": 148,
      "outputs": []
    },
    {
      "cell_type": "code",
      "metadata": {
        "id": "thL7D8oGlifY"
      },
      "source": [
        "text=text.split()"
      ],
      "execution_count": 150,
      "outputs": []
    },
    {
      "cell_type": "code",
      "metadata": {
        "id": "PDXwoQGtmx0q"
      },
      "source": [
        "freq_comm=pd.Series(text).value_counts()"
      ],
      "execution_count": 159,
      "outputs": []
    },
    {
      "cell_type": "code",
      "metadata": {
        "id": "BaJq03K53c5k"
      },
      "source": [
        "f20=freq_comm[:20]"
      ],
      "execution_count": 160,
      "outputs": []
    },
    {
      "cell_type": "code",
      "metadata": {
        "id": "SWxf-X6A3c7w"
      },
      "source": [
        "data[\"twitts\"]=data[\"twitts\"].apply(lambda x:\" \".join([t for t in x.split() if t not in f20]))"
      ],
      "execution_count": 164,
      "outputs": []
    },
    {
      "cell_type": "code",
      "metadata": {
        "colab": {
          "base_uri": "https://localhost:8080/",
          "height": 206
        },
        "id": "6JkAXUKN3c-D",
        "outputId": "bf754be5-18ea-43db-fcba-a6e80c8d6a68"
      },
      "source": [
        "data.sample(5)"
      ],
      "execution_count": 165,
      "outputs": [
        {
          "output_type": "execute_result",
          "data": {
            "text/html": [
              "<div>\n",
              "<style scoped>\n",
              "    .dataframe tbody tr th:only-of-type {\n",
              "        vertical-align: middle;\n",
              "    }\n",
              "\n",
              "    .dataframe tbody tr th {\n",
              "        vertical-align: top;\n",
              "    }\n",
              "\n",
              "    .dataframe thead th {\n",
              "        text-align: right;\n",
              "    }\n",
              "</style>\n",
              "<table border=\"1\" class=\"dataframe\">\n",
              "  <thead>\n",
              "    <tr style=\"text-align: right;\">\n",
              "      <th></th>\n",
              "      <th>twitts</th>\n",
              "      <th>sentiment</th>\n",
              "      <th>url_flags</th>\n",
              "    </tr>\n",
              "  </thead>\n",
              "  <tbody>\n",
              "    <tr>\n",
              "      <th>1958</th>\n",
              "      <td>uncleo awwww poor babymaybe time start blockin...</td>\n",
              "      <td>0</td>\n",
              "      <td>63</td>\n",
              "    </tr>\n",
              "    <tr>\n",
              "      <th>1091</th>\n",
              "      <td>starkness unfortunately only flash stream work</td>\n",
              "      <td>0</td>\n",
              "      <td>59</td>\n",
              "    </tr>\n",
              "    <tr>\n",
              "      <th>3496</th>\n",
              "      <td>Peter Martijn Wijnia sacrifice Vast vision rem...</td>\n",
              "      <td>1</td>\n",
              "      <td>77</td>\n",
              "    </tr>\n",
              "    <tr>\n",
              "      <th>403</th>\n",
              "      <td>iDavidCharles think thunder shake house lil bi...</td>\n",
              "      <td>0</td>\n",
              "      <td>102</td>\n",
              "    </tr>\n",
              "    <tr>\n",
              "      <th>1051</th>\n",
              "      <td>oh nomy lab limp Something wrong w front rt pa...</td>\n",
              "      <td>0</td>\n",
              "      <td>102</td>\n",
              "    </tr>\n",
              "  </tbody>\n",
              "</table>\n",
              "</div>"
            ],
            "text/plain": [
              "                                                 twitts  sentiment  url_flags\n",
              "1958  uncleo awwww poor babymaybe time start blockin...          0         63\n",
              "1091     starkness unfortunately only flash stream work          0         59\n",
              "3496  Peter Martijn Wijnia sacrifice Vast vision rem...          1         77\n",
              "403   iDavidCharles think thunder shake house lil bi...          0        102\n",
              "1051  oh nomy lab limp Something wrong w front rt pa...          0        102"
            ]
          },
          "metadata": {
            "tags": []
          },
          "execution_count": 165
        }
      ]
    },
    {
      "cell_type": "markdown",
      "metadata": {
        "id": "9HcAzaeYm_lB"
      },
      "source": [
        "**Removal of Rare Words**"
      ]
    },
    {
      "cell_type": "code",
      "metadata": {
        "id": "m7EaTFcSnBkw"
      },
      "source": [
        "rare20=freq_comm.tail(20)"
      ],
      "execution_count": 170,
      "outputs": []
    },
    {
      "cell_type": "code",
      "metadata": {
        "id": "fCvcaf9KnHLc"
      },
      "source": [
        "data[\"twitts\"]=data[\"twitts\"].apply(lambda x:\" \".join([t for t in x.split() if t not in rare20]))"
      ],
      "execution_count": 171,
      "outputs": []
    },
    {
      "cell_type": "code",
      "metadata": {
        "id": "G_1YJ6CInkWY",
        "colab": {
          "base_uri": "https://localhost:8080/",
          "height": 206
        },
        "outputId": "afad56db-30b3-4c02-bd3f-b544697d14f2"
      },
      "source": [
        "data.sample(5)"
      ],
      "execution_count": 172,
      "outputs": [
        {
          "output_type": "execute_result",
          "data": {
            "text/html": [
              "<div>\n",
              "<style scoped>\n",
              "    .dataframe tbody tr th:only-of-type {\n",
              "        vertical-align: middle;\n",
              "    }\n",
              "\n",
              "    .dataframe tbody tr th {\n",
              "        vertical-align: top;\n",
              "    }\n",
              "\n",
              "    .dataframe thead th {\n",
              "        text-align: right;\n",
              "    }\n",
              "</style>\n",
              "<table border=\"1\" class=\"dataframe\">\n",
              "  <thead>\n",
              "    <tr style=\"text-align: right;\">\n",
              "      <th></th>\n",
              "      <th>twitts</th>\n",
              "      <th>sentiment</th>\n",
              "      <th>url_flags</th>\n",
              "    </tr>\n",
              "  </thead>\n",
              "  <tbody>\n",
              "    <tr>\n",
              "      <th>172</th>\n",
              "      <td>Head split again if was single last nite would...</td>\n",
              "      <td>0</td>\n",
              "      <td>134</td>\n",
              "    </tr>\n",
              "    <tr>\n",
              "      <th>1023</th>\n",
              "      <td>LaurenConrads last episode</td>\n",
              "      <td>0</td>\n",
              "      <td>29</td>\n",
              "    </tr>\n",
              "    <tr>\n",
              "      <th>1424</th>\n",
              "      <td>Liljudy95 Aww whoever Anita Lazo Was sure Was ...</td>\n",
              "      <td>0</td>\n",
              "      <td>84</td>\n",
              "    </tr>\n",
              "    <tr>\n",
              "      <th>2</th>\n",
              "      <td>misskpey awwww dnt dis brng bak memoriessss th...</td>\n",
              "      <td>0</td>\n",
              "      <td>66</td>\n",
              "    </tr>\n",
              "    <tr>\n",
              "      <th>2270</th>\n",
              "      <td>tventura pretty sure are stick with very long ...</td>\n",
              "      <td>1</td>\n",
              "      <td>95</td>\n",
              "    </tr>\n",
              "  </tbody>\n",
              "</table>\n",
              "</div>"
            ],
            "text/plain": [
              "                                                 twitts  sentiment  url_flags\n",
              "172   Head split again if was single last nite would...          0        134\n",
              "1023                         LaurenConrads last episode          0         29\n",
              "1424  Liljudy95 Aww whoever Anita Lazo Was sure Was ...          0         84\n",
              "2     misskpey awwww dnt dis brng bak memoriessss th...          0         66\n",
              "2270  tventura pretty sure are stick with very long ...          1         95"
            ]
          },
          "metadata": {
            "tags": []
          },
          "execution_count": 172
        }
      ]
    },
    {
      "cell_type": "markdown",
      "metadata": {
        "id": "p4JDXgJ4pCTr"
      },
      "source": [
        "**Word Cloud Visualization**"
      ]
    },
    {
      "cell_type": "code",
      "metadata": {
        "id": "uTwbNkC1pDvO"
      },
      "source": [
        "from wordcloud import WordCloud\n",
        "import matplotlib.pyplot as plt\n",
        "%matplotlib inline"
      ],
      "execution_count": 175,
      "outputs": []
    },
    {
      "cell_type": "code",
      "metadata": {
        "id": "HMWYs-ABqdiz"
      },
      "source": [
        "text=\" \".join(data[\"twitts\"])"
      ],
      "execution_count": 176,
      "outputs": []
    },
    {
      "cell_type": "code",
      "metadata": {
        "id": "JMplEzvztjU5",
        "colab": {
          "base_uri": "https://localhost:8080/",
          "height": 198
        },
        "outputId": "81975728-2787-417d-bedf-d2a4477ac770"
      },
      "source": [
        "wc=WordCloud(width=800,height=400).generate(text)\n",
        "plt.imshow(wc)\n",
        "plt.axis(\"off\")\n",
        "plt.show()"
      ],
      "execution_count": 178,
      "outputs": [
        {
          "output_type": "display_data",
          "data": {
            "image/png": "[encoded data removed]",
            "text/plain": [
              "<Figure size 432x288 with 1 Axes>"
            ]
          },
          "metadata": {
            "tags": [],
            "needs_background": "light"
          }
        }
      ]
    },
    {
      "cell_type": "markdown",
      "metadata": {
        "id": "n5lE_KKPqIop"
      },
      "source": [
        "**Spelling Correction**"
      ]
    },
    {
      "cell_type": "code",
      "metadata": {
        "colab": {
          "base_uri": "https://localhost:8080/"
        },
        "id": "LCnbHhUsuHEs",
        "outputId": "bb9e2dd2-5646-46b2-d916-a7c0aa058c73"
      },
      "source": [
        "!python -m textblob.download_corpora"
      ],
      "execution_count": 180,
      "outputs": [
        {
          "output_type": "stream",
          "text": [
            "[nltk_data] Downloading package brown to /root/nltk_data...\n",
            "[nltk_data]   Unzipping corpora/brown.zip.\n",
            "[nltk_data] Downloading package punkt to /root/nltk_data...\n",
            "[nltk_data]   Unzipping tokenizers/punkt.zip.\n",
            "[nltk_data] Downloading package wordnet to /root/nltk_data...\n",
            "[nltk_data]   Unzipping corpora/wordnet.zip.\n",
            "[nltk_data] Downloading package averaged_perceptron_tagger to\n",
            "[nltk_data]     /root/nltk_data...\n",
            "[nltk_data]   Unzipping taggers/averaged_perceptron_tagger.zip.\n",
            "[nltk_data] Downloading package conll2000 to /root/nltk_data...\n",
            "[nltk_data]   Unzipping corpora/conll2000.zip.\n",
            "[nltk_data] Downloading package movie_reviews to /root/nltk_data...\n",
            "[nltk_data]   Unzipping corpora/movie_reviews.zip.\n",
            "Finished.\n"
          ],
          "name": "stdout"
        }
      ]
    },
    {
      "cell_type": "code",
      "metadata": {
        "id": "lpUxmya5z_-r"
      },
      "source": [
        "from textblob import TextBlob"
      ],
      "execution_count": 181,
      "outputs": []
    },
    {
      "cell_type": "code",
      "metadata": {
        "id": "NgRODWS10fy6"
      },
      "source": [
        "x=\"thankkks forr watching itt\"\n"
      ],
      "execution_count": 182,
      "outputs": []
    },
    {
      "cell_type": "code",
      "metadata": {
        "id": "uFNVkB7l69Iv"
      },
      "source": [
        "x=TextBlob(x).correct()"
      ],
      "execution_count": 185,
      "outputs": []
    },
    {
      "cell_type": "code",
      "metadata": {
        "colab": {
          "base_uri": "https://localhost:8080/"
        },
        "id": "bTkz2Jog7AcX",
        "outputId": "f5221145-d43b-43bd-9c85-1b0d108210a3"
      },
      "source": [
        "x"
      ],
      "execution_count": 186,
      "outputs": [
        {
          "output_type": "execute_result",
          "data": {
            "text/plain": [
              "TextBlob(\"thanks for watching it\")"
            ]
          },
          "metadata": {
            "tags": []
          },
          "execution_count": 186
        }
      ]
    }
  ]
}