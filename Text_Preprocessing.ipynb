{
  "nbformat": 4,
  "nbformat_minor": 0,
  "metadata": {
    "colab": {
      "name": "Text_Preprocessing.ipynb",
      "provenance": []
    },
    "kernelspec": {
      "name": "python3",
      "display_name": "Python 3"
    },
    "language_info": {
      "name": "python"
    }
  },
  "cells": [
    {
      "cell_type": "code",
      "metadata": {
        "id": "CUvevbVCfyL3"
      },
      "source": [
        "import pandas as pd\n",
        "import numpy as np\n",
        "import spacy \n"
      ],
      "execution_count": 1,
      "outputs": []
    },
    {
      "cell_type": "code",
      "metadata": {
        "id": "UOBQsMWXhm0W"
      },
      "source": [
        "from spacy.lang.en.stop_words import STOP_WORDS as stopwords"
      ],
      "execution_count": 2,
      "outputs": []
    },
    {
      "cell_type": "code",
      "metadata": {
        "id": "C_0VsPcRgPBS"
      },
      "source": [
        "data=pd.read_csv(\"twitter4000.csv\",encoding=\"latin1\")"
      ],
      "execution_count": 6,
      "outputs": []
    },
    {
      "cell_type": "code",
      "metadata": {
        "colab": {
          "base_uri": "https://localhost:8080/",
          "height": 424
        },
        "id": "crasIeC_gbWI",
        "outputId": "7752ff73-5424-48d2-e38b-e50644bde131"
      },
      "source": [
        "data"
      ],
      "execution_count": 8,
      "outputs": [
        {
          "output_type": "execute_result",
          "data": {
            "text/html": [
              "<div>\n",
              "<style scoped>\n",
              "    .dataframe tbody tr th:only-of-type {\n",
              "        vertical-align: middle;\n",
              "    }\n",
              "\n",
              "    .dataframe tbody tr th {\n",
              "        vertical-align: top;\n",
              "    }\n",
              "\n",
              "    .dataframe thead th {\n",
              "        text-align: right;\n",
              "    }\n",
              "</style>\n",
              "<table border=\"1\" class=\"dataframe\">\n",
              "  <thead>\n",
              "    <tr style=\"text-align: right;\">\n",
              "      <th></th>\n",
              "      <th>twitts</th>\n",
              "      <th>sentiment</th>\n",
              "    </tr>\n",
              "  </thead>\n",
              "  <tbody>\n",
              "    <tr>\n",
              "      <th>0</th>\n",
              "      <td>is bored and wants to watch a movie  any sugge...</td>\n",
              "      <td>0</td>\n",
              "    </tr>\n",
              "    <tr>\n",
              "      <th>1</th>\n",
              "      <td>back in miami.  waiting to unboard ship</td>\n",
              "      <td>0</td>\n",
              "    </tr>\n",
              "    <tr>\n",
              "      <th>2</th>\n",
              "      <td>@misskpey awwww dnt dis brng bak memoriessss, ...</td>\n",
              "      <td>0</td>\n",
              "    </tr>\n",
              "    <tr>\n",
              "      <th>3</th>\n",
              "      <td>ughhh i am so tired  blahhhhhhhhh</td>\n",
              "      <td>0</td>\n",
              "    </tr>\n",
              "    <tr>\n",
              "      <th>4</th>\n",
              "      <td>@mandagoforth me bad! It's funny though. Zacha...</td>\n",
              "      <td>0</td>\n",
              "    </tr>\n",
              "    <tr>\n",
              "      <th>...</th>\n",
              "      <td>...</td>\n",
              "      <td>...</td>\n",
              "    </tr>\n",
              "    <tr>\n",
              "      <th>3995</th>\n",
              "      <td>i just graduated</td>\n",
              "      <td>1</td>\n",
              "    </tr>\n",
              "    <tr>\n",
              "      <th>3996</th>\n",
              "      <td>Templating works; it all has to be done</td>\n",
              "      <td>1</td>\n",
              "    </tr>\n",
              "    <tr>\n",
              "      <th>3997</th>\n",
              "      <td>mommy just brought me starbucks</td>\n",
              "      <td>1</td>\n",
              "    </tr>\n",
              "    <tr>\n",
              "      <th>3998</th>\n",
              "      <td>@omarepps watching you on a House re-run...lov...</td>\n",
              "      <td>1</td>\n",
              "    </tr>\n",
              "    <tr>\n",
              "      <th>3999</th>\n",
              "      <td>Thanks for trying to make me smile I'll make y...</td>\n",
              "      <td>1</td>\n",
              "    </tr>\n",
              "  </tbody>\n",
              "</table>\n",
              "<p>4000 rows × 2 columns</p>\n",
              "</div>"
            ],
            "text/plain": [
              "                                                 twitts  sentiment\n",
              "0     is bored and wants to watch a movie  any sugge...          0\n",
              "1              back in miami.  waiting to unboard ship           0\n",
              "2     @misskpey awwww dnt dis brng bak memoriessss, ...          0\n",
              "3                     ughhh i am so tired  blahhhhhhhhh          0\n",
              "4     @mandagoforth me bad! It's funny though. Zacha...          0\n",
              "...                                                 ...        ...\n",
              "3995                                  i just graduated           1\n",
              "3996          Templating works; it all has to be done            1\n",
              "3997                   mommy just brought me starbucks           1\n",
              "3998  @omarepps watching you on a House re-run...lov...          1\n",
              "3999  Thanks for trying to make me smile I'll make y...          1\n",
              "\n",
              "[4000 rows x 2 columns]"
            ]
          },
          "metadata": {
            "tags": []
          },
          "execution_count": 8
        }
      ]
    },
    {
      "cell_type": "code",
      "metadata": {
        "colab": {
          "base_uri": "https://localhost:8080/"
        },
        "id": "bSQ38zyOicGe",
        "outputId": "6aecb875-30c1-4e38-e560-166552db2496"
      },
      "source": [
        "#counting the sentiments 0\n",
        "data[\"sentiment\"].value_counts()"
      ],
      "execution_count": 10,
      "outputs": [
        {
          "output_type": "execute_result",
          "data": {
            "text/plain": [
              "1    2000\n",
              "0    2000\n",
              "Name: sentiment, dtype: int64"
            ]
          },
          "metadata": {
            "tags": []
          },
          "execution_count": 10
        }
      ]
    },
    {
      "cell_type": "code",
      "metadata": {
        "id": "I01hGDfIgpyz"
      },
      "source": [
        ""
      ],
      "execution_count": null,
      "outputs": []
    },
    {
      "cell_type": "markdown",
      "metadata": {
        "id": "ZtOw_oQPgqhX"
      },
      "source": [
        "# **Word count**"
      ]
    },
    {
      "cell_type": "code",
      "metadata": {
        "id": "qaW_z1ABima_"
      },
      "source": [
        "data[\"word_counts\"]=data[\"twitts\"].apply(lambda x:len(str(x).split()))"
      ],
      "execution_count": 12,
      "outputs": []
    },
    {
      "cell_type": "code",
      "metadata": {
        "id": "7fQLgmq_iJ3n",
        "colab": {
          "base_uri": "https://localhost:8080/",
          "height": 206
        },
        "outputId": "63405524-81b6-40dc-f5c7-44bdcc021bde"
      },
      "source": [
        "data.sample(5)"
      ],
      "execution_count": 13,
      "outputs": [
        {
          "output_type": "execute_result",
          "data": {
            "text/html": [
              "<div>\n",
              "<style scoped>\n",
              "    .dataframe tbody tr th:only-of-type {\n",
              "        vertical-align: middle;\n",
              "    }\n",
              "\n",
              "    .dataframe tbody tr th {\n",
              "        vertical-align: top;\n",
              "    }\n",
              "\n",
              "    .dataframe thead th {\n",
              "        text-align: right;\n",
              "    }\n",
              "</style>\n",
              "<table border=\"1\" class=\"dataframe\">\n",
              "  <thead>\n",
              "    <tr style=\"text-align: right;\">\n",
              "      <th></th>\n",
              "      <th>twitts</th>\n",
              "      <th>sentiment</th>\n",
              "      <th>word_counts</th>\n",
              "    </tr>\n",
              "  </thead>\n",
              "  <tbody>\n",
              "    <tr>\n",
              "      <th>1743</th>\n",
              "      <td>dear@onicajay please come tomorrow, to the mov...</td>\n",
              "      <td>0</td>\n",
              "      <td>10</td>\n",
              "    </tr>\n",
              "    <tr>\n",
              "      <th>289</th>\n",
              "      <td>Well no linen 4 me 2day  put the capri's on &amp;a...</td>\n",
              "      <td>0</td>\n",
              "      <td>29</td>\n",
              "    </tr>\n",
              "    <tr>\n",
              "      <th>3700</th>\n",
              "      <td>no one's happy. :/ there's so many people out ...</td>\n",
              "      <td>1</td>\n",
              "      <td>22</td>\n",
              "    </tr>\n",
              "    <tr>\n",
              "      <th>1440</th>\n",
              "      <td>@juderivera yup.. i hear you.. i hate it mysel...</td>\n",
              "      <td>0</td>\n",
              "      <td>14</td>\n",
              "    </tr>\n",
              "    <tr>\n",
              "      <th>1277</th>\n",
              "      <td>Wishes blackberry had as many apps as iphone!</td>\n",
              "      <td>0</td>\n",
              "      <td>8</td>\n",
              "    </tr>\n",
              "  </tbody>\n",
              "</table>\n",
              "</div>"
            ],
            "text/plain": [
              "                                                 twitts  sentiment  word_counts\n",
              "1743  dear@onicajay please come tomorrow, to the mov...          0           10\n",
              "289   Well no linen 4 me 2day  put the capri's on &a...          0           29\n",
              "3700  no one's happy. :/ there's so many people out ...          1           22\n",
              "1440  @juderivera yup.. i hear you.. i hate it mysel...          0           14\n",
              "1277     Wishes blackberry had as many apps as iphone!           0            8"
            ]
          },
          "metadata": {
            "tags": []
          },
          "execution_count": 13
        }
      ]
    },
    {
      "cell_type": "code",
      "metadata": {
        "id": "VxNaufuOiUzb",
        "colab": {
          "base_uri": "https://localhost:8080/"
        },
        "outputId": "fa99c728-27ec-4de0-8c20-fbebdf515acd"
      },
      "source": [
        "data[\"word_counts\"].max(),data[\"word_counts\"].min(),data[data[\"word_counts\"]==1]"
      ],
      "execution_count": 16,
      "outputs": [
        {
          "output_type": "execute_result",
          "data": {
            "text/plain": [
              "(32, 1,                                twitts  sentiment  word_counts\n",
              " 385                         homework           0            1\n",
              " 691                         @ekrelly           0            1\n",
              " 1124                    disappointed           0            1\n",
              " 1286                 @officialmgnfox           0            1\n",
              " 1325                        headache           0            1\n",
              " 1897                      @MCRmuffin           0            1\n",
              " 2542                      Graduated!           1            1\n",
              " 2947                         reading           1            1\n",
              " 3176                    @omeirdeleon           1            1\n",
              " 3470  www.myspace.com/myfinalthought           1            1\n",
              " 3966                        @gethyp3           1            1)"
            ]
          },
          "metadata": {
            "tags": []
          },
          "execution_count": 16
        }
      ]
    },
    {
      "cell_type": "code",
      "metadata": {
        "id": "W8FPAgkDi5NM"
      },
      "source": [
        ""
      ],
      "execution_count": null,
      "outputs": []
    },
    {
      "cell_type": "markdown",
      "metadata": {
        "id": "T0x5fm9Mhgcz"
      },
      "source": [
        "**Characters Count**"
      ]
    },
    {
      "cell_type": "code",
      "metadata": {
        "id": "BcIIgwsyh4on"
      },
      "source": [
        "def char_count(x):\n",
        "  s=x.split()\n",
        "  x=\"\".join(s)\n",
        "  return len(x)"
      ],
      "execution_count": 19,
      "outputs": []
    },
    {
      "cell_type": "code",
      "metadata": {
        "id": "-LfuKFgui-XN"
      },
      "source": [
        "data[\"char_count\"]=data[\"twitts\"].apply(lambda x:char_count(str(x)))"
      ],
      "execution_count": 20,
      "outputs": []
    },
    {
      "cell_type": "code",
      "metadata": {
        "colab": {
          "base_uri": "https://localhost:8080/",
          "height": 206
        },
        "id": "MygSBbLOjjNU",
        "outputId": "8dcc45b7-31e6-4e9b-da4e-20c5b652da1c"
      },
      "source": [
        "data.sample(5)"
      ],
      "execution_count": 21,
      "outputs": [
        {
          "output_type": "execute_result",
          "data": {
            "text/html": [
              "<div>\n",
              "<style scoped>\n",
              "    .dataframe tbody tr th:only-of-type {\n",
              "        vertical-align: middle;\n",
              "    }\n",
              "\n",
              "    .dataframe tbody tr th {\n",
              "        vertical-align: top;\n",
              "    }\n",
              "\n",
              "    .dataframe thead th {\n",
              "        text-align: right;\n",
              "    }\n",
              "</style>\n",
              "<table border=\"1\" class=\"dataframe\">\n",
              "  <thead>\n",
              "    <tr style=\"text-align: right;\">\n",
              "      <th></th>\n",
              "      <th>twitts</th>\n",
              "      <th>sentiment</th>\n",
              "      <th>word_counts</th>\n",
              "      <th>char_count</th>\n",
              "    </tr>\n",
              "  </thead>\n",
              "  <tbody>\n",
              "    <tr>\n",
              "      <th>1587</th>\n",
              "      <td>@kirstiealley i just had one of those yesteday...</td>\n",
              "      <td>0</td>\n",
              "      <td>15</td>\n",
              "      <td>64</td>\n",
              "    </tr>\n",
              "    <tr>\n",
              "      <th>2454</th>\n",
              "      <td>is impatiently waiting for her little sister t...</td>\n",
              "      <td>1</td>\n",
              "      <td>10</td>\n",
              "      <td>48</td>\n",
              "    </tr>\n",
              "    <tr>\n",
              "      <th>1094</th>\n",
              "      <td>want to play bfheroes</td>\n",
              "      <td>0</td>\n",
              "      <td>4</td>\n",
              "      <td>18</td>\n",
              "    </tr>\n",
              "    <tr>\n",
              "      <th>372</th>\n",
              "      <td>@caityluvsyuu no,,,, i dont think so</td>\n",
              "      <td>0</td>\n",
              "      <td>6</td>\n",
              "      <td>31</td>\n",
              "    </tr>\n",
              "    <tr>\n",
              "      <th>1141</th>\n",
              "      <td>@edythemighty sorry your dog is sick</td>\n",
              "      <td>0</td>\n",
              "      <td>6</td>\n",
              "      <td>31</td>\n",
              "    </tr>\n",
              "  </tbody>\n",
              "</table>\n",
              "</div>"
            ],
            "text/plain": [
              "                                                 twitts  ...  char_count\n",
              "1587  @kirstiealley i just had one of those yesteday...  ...          64\n",
              "2454  is impatiently waiting for her little sister t...  ...          48\n",
              "1094                             want to play bfheroes   ...          18\n",
              "372               @caityluvsyuu no,,,, i dont think so   ...          31\n",
              "1141              @edythemighty sorry your dog is sick   ...          31\n",
              "\n",
              "[5 rows x 4 columns]"
            ]
          },
          "metadata": {
            "tags": []
          },
          "execution_count": 21
        }
      ]
    },
    {
      "cell_type": "code",
      "metadata": {
        "id": "koZ3p8tpkBfY"
      },
      "source": [
        ""
      ],
      "execution_count": null,
      "outputs": []
    },
    {
      "cell_type": "markdown",
      "metadata": {
        "id": "YjreM0EIiuHR"
      },
      "source": [
        "### Average Word length"
      ]
    },
    {
      "cell_type": "code",
      "metadata": {
        "id": "bOKflijCkJQd"
      },
      "source": [
        "#character per word \n",
        "data[\"avg_word_len\"]=data[\"char_count\"]/data[\"word_counts\"]"
      ],
      "execution_count": 23,
      "outputs": []
    },
    {
      "cell_type": "code",
      "metadata": {
        "id": "Kl2jL1BdkVSK",
        "colab": {
          "base_uri": "https://localhost:8080/",
          "height": 206
        },
        "outputId": "2893ff7e-cc48-43a2-f7b5-45e21bd8c093"
      },
      "source": [
        "data.sample(5)"
      ],
      "execution_count": 24,
      "outputs": [
        {
          "output_type": "execute_result",
          "data": {
            "text/html": [
              "<div>\n",
              "<style scoped>\n",
              "    .dataframe tbody tr th:only-of-type {\n",
              "        vertical-align: middle;\n",
              "    }\n",
              "\n",
              "    .dataframe tbody tr th {\n",
              "        vertical-align: top;\n",
              "    }\n",
              "\n",
              "    .dataframe thead th {\n",
              "        text-align: right;\n",
              "    }\n",
              "</style>\n",
              "<table border=\"1\" class=\"dataframe\">\n",
              "  <thead>\n",
              "    <tr style=\"text-align: right;\">\n",
              "      <th></th>\n",
              "      <th>twitts</th>\n",
              "      <th>sentiment</th>\n",
              "      <th>word_counts</th>\n",
              "      <th>char_count</th>\n",
              "      <th>avg_word_len</th>\n",
              "    </tr>\n",
              "  </thead>\n",
              "  <tbody>\n",
              "    <tr>\n",
              "      <th>6</th>\n",
              "      <td>@kevinmarquis haha yep but i really need to sl...</td>\n",
              "      <td>0</td>\n",
              "      <td>22</td>\n",
              "      <td>94</td>\n",
              "      <td>4.272727</td>\n",
              "    </tr>\n",
              "    <tr>\n",
              "      <th>3820</th>\n",
              "      <td>tweet 1212 goes to @paolagarin  cuz she's nutz...</td>\n",
              "      <td>1</td>\n",
              "      <td>13</td>\n",
              "      <td>59</td>\n",
              "      <td>4.538462</td>\n",
              "    </tr>\n",
              "    <tr>\n",
              "      <th>2786</th>\n",
              "      <td>@OneNil same thing. as long as there's words.</td>\n",
              "      <td>1</td>\n",
              "      <td>8</td>\n",
              "      <td>38</td>\n",
              "      <td>4.750000</td>\n",
              "    </tr>\n",
              "    <tr>\n",
              "      <th>3815</th>\n",
              "      <td>@stoberitrixie it means, hey there! o kaya sup...</td>\n",
              "      <td>1</td>\n",
              "      <td>21</td>\n",
              "      <td>95</td>\n",
              "      <td>4.523810</td>\n",
              "    </tr>\n",
              "    <tr>\n",
              "      <th>3962</th>\n",
              "      <td>@DavidArchie Our local shows love tributes too...</td>\n",
              "      <td>1</td>\n",
              "      <td>19</td>\n",
              "      <td>97</td>\n",
              "      <td>5.105263</td>\n",
              "    </tr>\n",
              "  </tbody>\n",
              "</table>\n",
              "</div>"
            ],
            "text/plain": [
              "                                                 twitts  ...  avg_word_len\n",
              "6     @kevinmarquis haha yep but i really need to sl...  ...      4.272727\n",
              "3820  tweet 1212 goes to @paolagarin  cuz she's nutz...  ...      4.538462\n",
              "2786     @OneNil same thing. as long as there's words.   ...      4.750000\n",
              "3815  @stoberitrixie it means, hey there! o kaya sup...  ...      4.523810\n",
              "3962  @DavidArchie Our local shows love tributes too...  ...      5.105263\n",
              "\n",
              "[5 rows x 5 columns]"
            ]
          },
          "metadata": {
            "tags": []
          },
          "execution_count": 24
        }
      ]
    },
    {
      "cell_type": "markdown",
      "metadata": {
        "id": "Ht_AaPwSjgcr"
      },
      "source": [
        "### **Stop words count**"
      ]
    },
    {
      "cell_type": "code",
      "metadata": {
        "id": "yf-DV8DqkyEq",
        "colab": {
          "base_uri": "https://localhost:8080/"
        },
        "outputId": "d5f29fa9-53be-4f55-b96c-a31ec0d8147b"
      },
      "source": [
        "#stop words(words which are occur very frequently)\n",
        "len(stopwords)"
      ],
      "execution_count": 28,
      "outputs": [
        {
          "output_type": "execute_result",
          "data": {
            "text/plain": [
              "326"
            ]
          },
          "metadata": {
            "tags": []
          },
          "execution_count": 28
        }
      ]
    },
    {
      "cell_type": "code",
      "metadata": {
        "colab": {
          "base_uri": "https://localhost:8080/"
        },
        "id": "rg4HbjR-kwIz",
        "outputId": "f41c4a39-00e9-4760-85d8-6f3addc30d15"
      },
      "source": [
        "print(stopwords)"
      ],
      "execution_count": 29,
      "outputs": [
        {
          "output_type": "stream",
          "text": [
            "{'neither', 'which', 'forty', 'around', 'that', 'really', 'us', '’m', 'been', 'wherever', 'almost', 'anyhow', 'n‘t', 'who', \"'ve\", 'enough', 'be', 'when', 'regarding', 'if', 'only', 'whether', 'before', 'other', 'this', 'anything', 'more', 'unless', 'otherwise', 'whole', 'had', '‘s', 'where', 'some', 'you', 'me', 'using', 'over', 'nine', 'back', 'twenty', 'own', 'must', 'may', 'on', 'serious', 'anywhere', 'about', 'thereby', 'among', 'show', 'others', 'might', 'used', 'become', 'can', 'due', 'whence', 'with', 'after', 'get', 'three', 'his', 'done', 'although', 'seems', 'indeed', 'below', 'two', 'formerly', 'will', 'seem', 'empty', 'an', 'eleven', 'and', 'something', 'ever', 'their', 'nobody', 'former', 'per', 'thereafter', 'now', 'being', 'everything', 'seemed', 'none', 'together', 'also', 'whereafter', 'just', \"'re\", 'one', 'see', 'everywhere', 'seeming', 'could', 'already', 'itself', 'too', 'why', 'meanwhile', 'i', 'whereas', 'fifteen', 'through', 'often', 'five', 'yet', 'call', 'its', 'elsewhere', 'a', 'say', 'sometime', 'always', 'them', 'whose', 'of', 'are', 'thru', 'am', 'make', '‘ll', 'at', 'name', 'without', 'those', 'the', 'nowhere', 'we', 'toward', 'thereupon', 'across', 'hers', 'much', 'under', '’re', 'above', 'along', 'next', 'against', 'fifty', 'upon', 'mostly', 'should', 'whereby', 'last', 'between', 'off', 'your', 'noone', 'latterly', 'even', 'all', 'never', 'n’t', 'ours', 'hereupon', 'thus', 'twelve', '‘d', 'mine', 'in', 'nor', 'eight', 'latter', 'or', 'once', \"'s\", 'ourselves', 'via', 'sixty', 'somehow', 'moreover', 'for', 'quite', 'no', 'there', 'beforehand', 'either', 'else', 'nevertheless', \"'d\", 'becoming', 'it', 'such', 'front', 'out', 'our', 'part', 'whereupon', 'yourself', 'would', 'were', 'same', 'ca', 'amongst', 'besides', 'hereby', 'from', 'what', 'whom', 'full', 'top', 'still', 'most', 'whoever', 'down', 'because', 'my', 'yours', 'side', 'therein', 'her', 'bottom', '‘ve', 'than', 'up', 'third', 'beyond', 'each', 'yourselves', 'how', 'however', 'somewhere', 'thence', \"'m\", 'not', 'until', 'further', 'few', 'has', 'wherein', 'rather', 'ten', 'throughout', 'keep', 'becomes', 'hereafter', 'again', 'do', '‘m', 'within', 'nothing', 'please', 'therefore', 'whither', 'she', 'well', 'since', 'into', 'put', 'go', 'to', 'did', 're', 'cannot', 'hence', '’d', 'someone', '’ve', 'less', 'whenever', 'various', '‘re', 'any', 'during', 'then', 'does', 'while', 'hundred', 'himself', '’ll', 'anyone', 'here', 'another', 'these', 'four', 'take', 'by', 'beside', 'towards', 'alone', 'became', '’s', 'behind', 'was', 'afterwards', 'anyway', 'very', 'he', 'give', 'they', 'whatever', 'though', 'made', 'sometimes', 'as', 'so', \"n't\", 'many', 'except', 'themselves', 'myself', 'several', 'both', 'have', 'amount', \"'ll\", 'first', 'six', 'perhaps', 'everyone', 'least', 'doing', 'herself', 'is', 'onto', 'herein', 'namely', 'but', 'every', 'him', 'move'}\n"
          ],
          "name": "stdout"
        }
      ]
    },
    {
      "cell_type": "code",
      "metadata": {
        "id": "J11XFJN8lN7v"
      },
      "source": [
        "data[\"stop_word_len\"]=data[\"twitts\"].apply(lambda x:len([t for t in x.split() if t in stopwords]))\n",
        "  \n"
      ],
      "execution_count": 32,
      "outputs": []
    },
    {
      "cell_type": "code",
      "metadata": {
        "id": "fFwUFlWslVaJ",
        "colab": {
          "base_uri": "https://localhost:8080/",
          "height": 276
        },
        "outputId": "d7e20d2f-25b3-48c4-bddc-6047fe990b7f"
      },
      "source": [
        "data.sample(5)"
      ],
      "execution_count": 33,
      "outputs": [
        {
          "output_type": "execute_result",
          "data": {
            "text/html": [
              "<div>\n",
              "<style scoped>\n",
              "    .dataframe tbody tr th:only-of-type {\n",
              "        vertical-align: middle;\n",
              "    }\n",
              "\n",
              "    .dataframe tbody tr th {\n",
              "        vertical-align: top;\n",
              "    }\n",
              "\n",
              "    .dataframe thead th {\n",
              "        text-align: right;\n",
              "    }\n",
              "</style>\n",
              "<table border=\"1\" class=\"dataframe\">\n",
              "  <thead>\n",
              "    <tr style=\"text-align: right;\">\n",
              "      <th></th>\n",
              "      <th>twitts</th>\n",
              "      <th>sentiment</th>\n",
              "      <th>word_counts</th>\n",
              "      <th>char_count</th>\n",
              "      <th>avg_word_len</th>\n",
              "      <th>stop_word_len</th>\n",
              "    </tr>\n",
              "  </thead>\n",
              "  <tbody>\n",
              "    <tr>\n",
              "      <th>1745</th>\n",
              "      <td>@kappaomicron: why? i didn't go for what i wan...</td>\n",
              "      <td>0</td>\n",
              "      <td>10</td>\n",
              "      <td>45</td>\n",
              "      <td>4.500000</td>\n",
              "      <td>6</td>\n",
              "    </tr>\n",
              "    <tr>\n",
              "      <th>2384</th>\n",
              "      <td>@EmpressEricka That I'm trying to get invited ...</td>\n",
              "      <td>1</td>\n",
              "      <td>25</td>\n",
              "      <td>113</td>\n",
              "      <td>4.520000</td>\n",
              "      <td>12</td>\n",
              "    </tr>\n",
              "    <tr>\n",
              "      <th>160</th>\n",
              "      <td>In the vets for Millies' check up. The cat ain...</td>\n",
              "      <td>0</td>\n",
              "      <td>11</td>\n",
              "      <td>45</td>\n",
              "      <td>4.090909</td>\n",
              "      <td>2</td>\n",
              "    </tr>\n",
              "    <tr>\n",
              "      <th>1912</th>\n",
              "      <td>My girl wants me to start wearing t shirts to ...</td>\n",
              "      <td>0</td>\n",
              "      <td>20</td>\n",
              "      <td>84</td>\n",
              "      <td>4.200000</td>\n",
              "      <td>8</td>\n",
              "    </tr>\n",
              "    <tr>\n",
              "      <th>742</th>\n",
              "      <td>At the train station. It's cold</td>\n",
              "      <td>0</td>\n",
              "      <td>6</td>\n",
              "      <td>26</td>\n",
              "      <td>4.333333</td>\n",
              "      <td>1</td>\n",
              "    </tr>\n",
              "  </tbody>\n",
              "</table>\n",
              "</div>"
            ],
            "text/plain": [
              "                                                 twitts  ...  stop_word_len\n",
              "1745  @kappaomicron: why? i didn't go for what i wan...  ...              6\n",
              "2384  @EmpressEricka That I'm trying to get invited ...  ...             12\n",
              "160   In the vets for Millies' check up. The cat ain...  ...              2\n",
              "1912  My girl wants me to start wearing t shirts to ...  ...              8\n",
              "742                    At the train station. It's cold   ...              1\n",
              "\n",
              "[5 rows x 6 columns]"
            ]
          },
          "metadata": {
            "tags": []
          },
          "execution_count": 33
        }
      ]
    },
    {
      "cell_type": "code",
      "metadata": {
        "id": "v2UjTUetl5xy"
      },
      "source": [
        ""
      ],
      "execution_count": null,
      "outputs": []
    },
    {
      "cell_type": "markdown",
      "metadata": {
        "id": "ULAsdxg_lPF7"
      },
      "source": [
        "**Count #HashTags and @ Mention**"
      ]
    },
    {
      "cell_type": "code",
      "metadata": {
        "id": "A4yFp_bJlexO"
      },
      "source": [
        "data[\"Hashtags_count\"]=data[\"twitts\"].apply(lambda x:len([t for t in x.split() if t.startswith(\"#\")]))\n",
        "data[\"mentions_count\"]=data[\"twitts\"].apply(lambda x:len([t for t in x.split() if t.startswith(\"@\")]))"
      ],
      "execution_count": 37,
      "outputs": []
    },
    {
      "cell_type": "code",
      "metadata": {
        "colab": {
          "base_uri": "https://localhost:8080/",
          "height": 383
        },
        "id": "thL7D8oGlifY",
        "outputId": "0c8d61ab-1815-418a-d762-1d476175b4fb"
      },
      "source": [
        "data.sample(5)"
      ],
      "execution_count": 38,
      "outputs": [
        {
          "output_type": "execute_result",
          "data": {
            "text/html": [
              "<div>\n",
              "<style scoped>\n",
              "    .dataframe tbody tr th:only-of-type {\n",
              "        vertical-align: middle;\n",
              "    }\n",
              "\n",
              "    .dataframe tbody tr th {\n",
              "        vertical-align: top;\n",
              "    }\n",
              "\n",
              "    .dataframe thead th {\n",
              "        text-align: right;\n",
              "    }\n",
              "</style>\n",
              "<table border=\"1\" class=\"dataframe\">\n",
              "  <thead>\n",
              "    <tr style=\"text-align: right;\">\n",
              "      <th></th>\n",
              "      <th>twitts</th>\n",
              "      <th>sentiment</th>\n",
              "      <th>word_counts</th>\n",
              "      <th>char_count</th>\n",
              "      <th>avg_word_len</th>\n",
              "      <th>stop_word_len</th>\n",
              "      <th>Hashtags_count</th>\n",
              "      <th>mentios_count</th>\n",
              "      <th>mentions_count</th>\n",
              "    </tr>\n",
              "  </thead>\n",
              "  <tbody>\n",
              "    <tr>\n",
              "      <th>2276</th>\n",
              "      <td>@hibiscuit any of your decisions is a good one...</td>\n",
              "      <td>1</td>\n",
              "      <td>14</td>\n",
              "      <td>63</td>\n",
              "      <td>4.500000</td>\n",
              "      <td>7</td>\n",
              "      <td>0</td>\n",
              "      <td>1</td>\n",
              "      <td>1</td>\n",
              "    </tr>\n",
              "    <tr>\n",
              "      <th>3107</th>\n",
              "      <td>@danceoffmychest watchng that one dies every w...</td>\n",
              "      <td>1</td>\n",
              "      <td>17</td>\n",
              "      <td>87</td>\n",
              "      <td>5.117647</td>\n",
              "      <td>7</td>\n",
              "      <td>0</td>\n",
              "      <td>1</td>\n",
              "      <td>1</td>\n",
              "    </tr>\n",
              "    <tr>\n",
              "      <th>1006</th>\n",
              "      <td>done tweeting for the night. gonna watch the r...</td>\n",
              "      <td>0</td>\n",
              "      <td>25</td>\n",
              "      <td>105</td>\n",
              "      <td>4.200000</td>\n",
              "      <td>11</td>\n",
              "      <td>0</td>\n",
              "      <td>0</td>\n",
              "      <td>0</td>\n",
              "    </tr>\n",
              "    <tr>\n",
              "      <th>618</th>\n",
              "      <td>I've got to go. My sista wants the computer.</td>\n",
              "      <td>0</td>\n",
              "      <td>9</td>\n",
              "      <td>36</td>\n",
              "      <td>4.000000</td>\n",
              "      <td>2</td>\n",
              "      <td>0</td>\n",
              "      <td>0</td>\n",
              "      <td>0</td>\n",
              "    </tr>\n",
              "    <tr>\n",
              "      <th>21</th>\n",
              "      <td>what is up with my hip</td>\n",
              "      <td>0</td>\n",
              "      <td>6</td>\n",
              "      <td>17</td>\n",
              "      <td>2.833333</td>\n",
              "      <td>5</td>\n",
              "      <td>0</td>\n",
              "      <td>0</td>\n",
              "      <td>0</td>\n",
              "    </tr>\n",
              "  </tbody>\n",
              "</table>\n",
              "</div>"
            ],
            "text/plain": [
              "                                                 twitts  ...  mentions_count\n",
              "2276  @hibiscuit any of your decisions is a good one...  ...               1\n",
              "3107  @danceoffmychest watchng that one dies every w...  ...               1\n",
              "1006  done tweeting for the night. gonna watch the r...  ...               0\n",
              "618       I've got to go. My sista wants the computer.   ...               0\n",
              "21                              what is up with my hip   ...               0\n",
              "\n",
              "[5 rows x 9 columns]"
            ]
          },
          "metadata": {
            "tags": []
          },
          "execution_count": 38
        }
      ]
    },
    {
      "cell_type": "code",
      "metadata": {
        "id": "PDXwoQGtmx0q"
      },
      "source": [
        ""
      ],
      "execution_count": null,
      "outputs": []
    },
    {
      "cell_type": "markdown",
      "metadata": {
        "id": "9HcAzaeYm_lB"
      },
      "source": [
        "**If numeric digits present in twitts**"
      ]
    },
    {
      "cell_type": "code",
      "metadata": {
        "id": "m7EaTFcSnBkw"
      },
      "source": [
        "data[\"numeric_count\"]=data[\"twitts\"].apply(lambda x: len([ t for t in x .split() if t.isdigit() ]))"
      ],
      "execution_count": 41,
      "outputs": []
    },
    {
      "cell_type": "code",
      "metadata": {
        "id": "fCvcaf9KnHLc",
        "colab": {
          "base_uri": "https://localhost:8080/",
          "height": 469
        },
        "outputId": "55b57b53-0f33-4c78-8a05-f0091c02182b"
      },
      "source": [
        "data.sample(5)"
      ],
      "execution_count": 42,
      "outputs": [
        {
          "output_type": "execute_result",
          "data": {
            "text/html": [
              "<div>\n",
              "<style scoped>\n",
              "    .dataframe tbody tr th:only-of-type {\n",
              "        vertical-align: middle;\n",
              "    }\n",
              "\n",
              "    .dataframe tbody tr th {\n",
              "        vertical-align: top;\n",
              "    }\n",
              "\n",
              "    .dataframe thead th {\n",
              "        text-align: right;\n",
              "    }\n",
              "</style>\n",
              "<table border=\"1\" class=\"dataframe\">\n",
              "  <thead>\n",
              "    <tr style=\"text-align: right;\">\n",
              "      <th></th>\n",
              "      <th>twitts</th>\n",
              "      <th>sentiment</th>\n",
              "      <th>word_counts</th>\n",
              "      <th>char_count</th>\n",
              "      <th>avg_word_len</th>\n",
              "      <th>stop_word_len</th>\n",
              "      <th>Hashtags_count</th>\n",
              "      <th>mentios_count</th>\n",
              "      <th>mentions_count</th>\n",
              "      <th>numeric_count</th>\n",
              "    </tr>\n",
              "  </thead>\n",
              "  <tbody>\n",
              "    <tr>\n",
              "      <th>3753</th>\n",
              "      <td>@MegDen Thank you 'Momma Meg'...cupcakes were ...</td>\n",
              "      <td>1</td>\n",
              "      <td>8</td>\n",
              "      <td>55</td>\n",
              "      <td>6.875000</td>\n",
              "      <td>2</td>\n",
              "      <td>0</td>\n",
              "      <td>1</td>\n",
              "      <td>1</td>\n",
              "      <td>0</td>\n",
              "    </tr>\n",
              "    <tr>\n",
              "      <th>1155</th>\n",
              "      <td>@MissTiffy  it was jus a coincidence then LOL....</td>\n",
              "      <td>0</td>\n",
              "      <td>16</td>\n",
              "      <td>66</td>\n",
              "      <td>4.125000</td>\n",
              "      <td>6</td>\n",
              "      <td>0</td>\n",
              "      <td>1</td>\n",
              "      <td>1</td>\n",
              "      <td>0</td>\n",
              "    </tr>\n",
              "    <tr>\n",
              "      <th>3631</th>\n",
              "      <td>Decided to finally jump on the Twitter bus!</td>\n",
              "      <td>1</td>\n",
              "      <td>8</td>\n",
              "      <td>36</td>\n",
              "      <td>4.500000</td>\n",
              "      <td>3</td>\n",
              "      <td>0</td>\n",
              "      <td>0</td>\n",
              "      <td>0</td>\n",
              "      <td>0</td>\n",
              "    </tr>\n",
              "    <tr>\n",
              "      <th>202</th>\n",
              "      <td>@PennyParnevik i m asking myself the same ques...</td>\n",
              "      <td>0</td>\n",
              "      <td>11</td>\n",
              "      <td>56</td>\n",
              "      <td>5.090909</td>\n",
              "      <td>5</td>\n",
              "      <td>0</td>\n",
              "      <td>1</td>\n",
              "      <td>1</td>\n",
              "      <td>0</td>\n",
              "    </tr>\n",
              "    <tr>\n",
              "      <th>678</th>\n",
              "      <td>Been teaching when all I want to do is sleep  ...</td>\n",
              "      <td>0</td>\n",
              "      <td>18</td>\n",
              "      <td>77</td>\n",
              "      <td>4.277778</td>\n",
              "      <td>8</td>\n",
              "      <td>0</td>\n",
              "      <td>0</td>\n",
              "      <td>0</td>\n",
              "      <td>0</td>\n",
              "    </tr>\n",
              "  </tbody>\n",
              "</table>\n",
              "</div>"
            ],
            "text/plain": [
              "                                                 twitts  ...  numeric_count\n",
              "3753  @MegDen Thank you 'Momma Meg'...cupcakes were ...  ...              0\n",
              "1155  @MissTiffy  it was jus a coincidence then LOL....  ...              0\n",
              "3631       Decided to finally jump on the Twitter bus!   ...              0\n",
              "202   @PennyParnevik i m asking myself the same ques...  ...              0\n",
              "678   Been teaching when all I want to do is sleep  ...  ...              0\n",
              "\n",
              "[5 rows x 10 columns]"
            ]
          },
          "metadata": {
            "tags": []
          },
          "execution_count": 42
        }
      ]
    },
    {
      "cell_type": "code",
      "metadata": {
        "id": "G_1YJ6CInkWY"
      },
      "source": [
        ""
      ],
      "execution_count": null,
      "outputs": []
    },
    {
      "cell_type": "markdown",
      "metadata": {
        "id": "CNB2mFxHoLOI"
      },
      "source": [
        "**Upper case words**"
      ]
    },
    {
      "cell_type": "code",
      "metadata": {
        "id": "T1OL5G6ErKYC"
      },
      "source": [
        "data[\"upper_word_counts\"]=data[\"twitts\"].apply(lambda x:len([ t for t in x.split() if t.isupper()]))"
      ],
      "execution_count": 43,
      "outputs": []
    },
    {
      "cell_type": "code",
      "metadata": {
        "id": "Ivvls6vEoeS4",
        "colab": {
          "base_uri": "https://localhost:8080/",
          "height": 383
        },
        "outputId": "1be742ca-ffdb-4837-a2da-2dc13cab7d24"
      },
      "source": [
        "data.sample(5)"
      ],
      "execution_count": 44,
      "outputs": [
        {
          "output_type": "execute_result",
          "data": {
            "text/html": [
              "<div>\n",
              "<style scoped>\n",
              "    .dataframe tbody tr th:only-of-type {\n",
              "        vertical-align: middle;\n",
              "    }\n",
              "\n",
              "    .dataframe tbody tr th {\n",
              "        vertical-align: top;\n",
              "    }\n",
              "\n",
              "    .dataframe thead th {\n",
              "        text-align: right;\n",
              "    }\n",
              "</style>\n",
              "<table border=\"1\" class=\"dataframe\">\n",
              "  <thead>\n",
              "    <tr style=\"text-align: right;\">\n",
              "      <th></th>\n",
              "      <th>twitts</th>\n",
              "      <th>sentiment</th>\n",
              "      <th>word_counts</th>\n",
              "      <th>char_count</th>\n",
              "      <th>avg_word_len</th>\n",
              "      <th>stop_word_len</th>\n",
              "      <th>Hashtags_count</th>\n",
              "      <th>mentios_count</th>\n",
              "      <th>mentions_count</th>\n",
              "      <th>numeric_count</th>\n",
              "      <th>upper_word_counts</th>\n",
              "    </tr>\n",
              "  </thead>\n",
              "  <tbody>\n",
              "    <tr>\n",
              "      <th>663</th>\n",
              "      <td>Root canal at 1530   ugh! Doc promised that it...</td>\n",
              "      <td>0</td>\n",
              "      <td>29</td>\n",
              "      <td>112</td>\n",
              "      <td>3.862069</td>\n",
              "      <td>8</td>\n",
              "      <td>0</td>\n",
              "      <td>0</td>\n",
              "      <td>0</td>\n",
              "      <td>2</td>\n",
              "      <td>3</td>\n",
              "    </tr>\n",
              "    <tr>\n",
              "      <th>3042</th>\n",
              "      <td>@James_Phelps I won't take to much.. shopping ...</td>\n",
              "      <td>1</td>\n",
              "      <td>11</td>\n",
              "      <td>54</td>\n",
              "      <td>4.909091</td>\n",
              "      <td>4</td>\n",
              "      <td>0</td>\n",
              "      <td>1</td>\n",
              "      <td>1</td>\n",
              "      <td>0</td>\n",
              "      <td>1</td>\n",
              "    </tr>\n",
              "    <tr>\n",
              "      <th>3246</th>\n",
              "      <td>@liamvickery dude, thanks for the #followfrida...</td>\n",
              "      <td>1</td>\n",
              "      <td>11</td>\n",
              "      <td>65</td>\n",
              "      <td>5.909091</td>\n",
              "      <td>5</td>\n",
              "      <td>1</td>\n",
              "      <td>1</td>\n",
              "      <td>1</td>\n",
              "      <td>0</td>\n",
              "      <td>0</td>\n",
              "    </tr>\n",
              "    <tr>\n",
              "      <th>3786</th>\n",
              "      <td>@JPatrickDowning try Price Cutters.</td>\n",
              "      <td>1</td>\n",
              "      <td>4</td>\n",
              "      <td>32</td>\n",
              "      <td>8.000000</td>\n",
              "      <td>0</td>\n",
              "      <td>0</td>\n",
              "      <td>1</td>\n",
              "      <td>1</td>\n",
              "      <td>0</td>\n",
              "      <td>0</td>\n",
              "    </tr>\n",
              "    <tr>\n",
              "      <th>1803</th>\n",
              "      <td>I missssss my baby</td>\n",
              "      <td>0</td>\n",
              "      <td>4</td>\n",
              "      <td>15</td>\n",
              "      <td>3.750000</td>\n",
              "      <td>1</td>\n",
              "      <td>0</td>\n",
              "      <td>0</td>\n",
              "      <td>0</td>\n",
              "      <td>0</td>\n",
              "      <td>1</td>\n",
              "    </tr>\n",
              "  </tbody>\n",
              "</table>\n",
              "</div>"
            ],
            "text/plain": [
              "                                                 twitts  ...  upper_word_counts\n",
              "663   Root canal at 1530   ugh! Doc promised that it...  ...                  3\n",
              "3042  @James_Phelps I won't take to much.. shopping ...  ...                  1\n",
              "3246  @liamvickery dude, thanks for the #followfrida...  ...                  0\n",
              "3786               @JPatrickDowning try Price Cutters.   ...                  0\n",
              "1803                                I missssss my baby   ...                  1\n",
              "\n",
              "[5 rows x 11 columns]"
            ]
          },
          "metadata": {
            "tags": []
          },
          "execution_count": 44
        }
      ]
    },
    {
      "cell_type": "markdown",
      "metadata": {
        "id": "p4JDXgJ4pCTr"
      },
      "source": [
        "**Lower Case Conversion**"
      ]
    },
    {
      "cell_type": "code",
      "metadata": {
        "id": "uTwbNkC1pDvO"
      },
      "source": [
        "#Normalization\n",
        "data[\"twitts\"]=data[\"twitts\"].apply(lambda x:str(x).lower())\n"
      ],
      "execution_count": 48,
      "outputs": []
    },
    {
      "cell_type": "code",
      "metadata": {
        "id": "HMWYs-ABqdiz",
        "colab": {
          "base_uri": "https://localhost:8080/",
          "height": 296
        },
        "outputId": "d033a07e-3a7c-471e-8d2d-f9fb0b7a6241"
      },
      "source": [
        "data.sample(5)"
      ],
      "execution_count": 49,
      "outputs": [
        {
          "output_type": "execute_result",
          "data": {
            "text/html": [
              "<div>\n",
              "<style scoped>\n",
              "    .dataframe tbody tr th:only-of-type {\n",
              "        vertical-align: middle;\n",
              "    }\n",
              "\n",
              "    .dataframe tbody tr th {\n",
              "        vertical-align: top;\n",
              "    }\n",
              "\n",
              "    .dataframe thead th {\n",
              "        text-align: right;\n",
              "    }\n",
              "</style>\n",
              "<table border=\"1\" class=\"dataframe\">\n",
              "  <thead>\n",
              "    <tr style=\"text-align: right;\">\n",
              "      <th></th>\n",
              "      <th>twitts</th>\n",
              "      <th>sentiment</th>\n",
              "      <th>word_counts</th>\n",
              "      <th>char_count</th>\n",
              "      <th>avg_word_len</th>\n",
              "      <th>stop_word_len</th>\n",
              "      <th>Hashtags_count</th>\n",
              "      <th>mentios_count</th>\n",
              "      <th>mentions_count</th>\n",
              "      <th>numeric_count</th>\n",
              "      <th>upper_word_counts</th>\n",
              "      <th>twiits</th>\n",
              "    </tr>\n",
              "  </thead>\n",
              "  <tbody>\n",
              "    <tr>\n",
              "      <th>3601</th>\n",
              "      <td>travel blog up and running!  http://charlenedi...</td>\n",
              "      <td>1</td>\n",
              "      <td>16</td>\n",
              "      <td>103</td>\n",
              "      <td>6.437500</td>\n",
              "      <td>6</td>\n",
              "      <td>0</td>\n",
              "      <td>0</td>\n",
              "      <td>0</td>\n",
              "      <td>0</td>\n",
              "      <td>0</td>\n",
              "      <td>travel blog up and running!  http://charlenedi...</td>\n",
              "    </tr>\n",
              "    <tr>\n",
              "      <th>2489</th>\n",
              "      <td>@scottieb87 lol ouch!!!!!  my feelings would b...</td>\n",
              "      <td>1</td>\n",
              "      <td>13</td>\n",
              "      <td>64</td>\n",
              "      <td>4.923077</td>\n",
              "      <td>5</td>\n",
              "      <td>0</td>\n",
              "      <td>1</td>\n",
              "      <td>1</td>\n",
              "      <td>0</td>\n",
              "      <td>0</td>\n",
              "      <td>@scottieb87 lol ouch!!!!!  my feelings would b...</td>\n",
              "    </tr>\n",
              "    <tr>\n",
              "      <th>2958</th>\n",
              "      <td>@pr_trice will do</td>\n",
              "      <td>1</td>\n",
              "      <td>3</td>\n",
              "      <td>15</td>\n",
              "      <td>5.000000</td>\n",
              "      <td>0</td>\n",
              "      <td>0</td>\n",
              "      <td>1</td>\n",
              "      <td>1</td>\n",
              "      <td>0</td>\n",
              "      <td>0</td>\n",
              "      <td>@pr_trice will do</td>\n",
              "    </tr>\n",
              "    <tr>\n",
              "      <th>3969</th>\n",
              "      <td>just got twitter..</td>\n",
              "      <td>1</td>\n",
              "      <td>3</td>\n",
              "      <td>16</td>\n",
              "      <td>5.333333</td>\n",
              "      <td>0</td>\n",
              "      <td>0</td>\n",
              "      <td>0</td>\n",
              "      <td>0</td>\n",
              "      <td>0</td>\n",
              "      <td>0</td>\n",
              "      <td>just got twitter..</td>\n",
              "    </tr>\n",
              "    <tr>\n",
              "      <th>2672</th>\n",
              "      <td>ok, time to fly</td>\n",
              "      <td>1</td>\n",
              "      <td>4</td>\n",
              "      <td>12</td>\n",
              "      <td>3.000000</td>\n",
              "      <td>1</td>\n",
              "      <td>0</td>\n",
              "      <td>0</td>\n",
              "      <td>0</td>\n",
              "      <td>0</td>\n",
              "      <td>0</td>\n",
              "      <td>ok, time to fly</td>\n",
              "    </tr>\n",
              "  </tbody>\n",
              "</table>\n",
              "</div>"
            ],
            "text/plain": [
              "                                                 twitts  ...                                             twiits\n",
              "3601  travel blog up and running!  http://charlenedi...  ...  travel blog up and running!  http://charlenedi...\n",
              "2489  @scottieb87 lol ouch!!!!!  my feelings would b...  ...  @scottieb87 lol ouch!!!!!  my feelings would b...\n",
              "2958                                 @pr_trice will do   ...                                 @pr_trice will do \n",
              "3969                                just got twitter..   ...                                just got twitter.. \n",
              "2672                                   ok, time to fly   ...                                   ok, time to fly \n",
              "\n",
              "[5 rows x 12 columns]"
            ]
          },
          "metadata": {
            "tags": []
          },
          "execution_count": 49
        }
      ]
    },
    {
      "cell_type": "code",
      "metadata": {
        "id": "JMplEzvztjU5"
      },
      "source": [
        ""
      ],
      "execution_count": null,
      "outputs": []
    },
    {
      "cell_type": "markdown",
      "metadata": {
        "id": "n5lE_KKPqIop"
      },
      "source": [
        "**Count  and Remove Emails**"
      ]
    },
    {
      "cell_type": "code",
      "metadata": {
        "colab": {
          "base_uri": "https://localhost:8080/",
          "height": 135
        },
        "id": "LCnbHhUsuHEs",
        "outputId": "c7910578-e537-4975-d53d-3a9faa0923c9"
      },
      "source": [
        "data[data[\"twitts\"].str.contains(\"hotmail.com\")]"
      ],
      "execution_count": 53,
      "outputs": [
        {
          "output_type": "execute_result",
          "data": {
            "text/html": [
              "<div>\n",
              "<style scoped>\n",
              "    .dataframe tbody tr th:only-of-type {\n",
              "        vertical-align: middle;\n",
              "    }\n",
              "\n",
              "    .dataframe tbody tr th {\n",
              "        vertical-align: top;\n",
              "    }\n",
              "\n",
              "    .dataframe thead th {\n",
              "        text-align: right;\n",
              "    }\n",
              "</style>\n",
              "<table border=\"1\" class=\"dataframe\">\n",
              "  <thead>\n",
              "    <tr style=\"text-align: right;\">\n",
              "      <th></th>\n",
              "      <th>twitts</th>\n",
              "      <th>sentiment</th>\n",
              "      <th>word_counts</th>\n",
              "      <th>char_count</th>\n",
              "      <th>avg_word_len</th>\n",
              "      <th>stop_word_len</th>\n",
              "      <th>Hashtags_count</th>\n",
              "      <th>mentios_count</th>\n",
              "      <th>mentions_count</th>\n",
              "      <th>numeric_count</th>\n",
              "      <th>upper_word_counts</th>\n",
              "      <th>twiits</th>\n",
              "    </tr>\n",
              "  </thead>\n",
              "  <tbody>\n",
              "    <tr>\n",
              "      <th>3713</th>\n",
              "      <td>@securerecs arghh me please  markbradbury_16@h...</td>\n",
              "      <td>1</td>\n",
              "      <td>5</td>\n",
              "      <td>51</td>\n",
              "      <td>10.2</td>\n",
              "      <td>0</td>\n",
              "      <td>0</td>\n",
              "      <td>1</td>\n",
              "      <td>1</td>\n",
              "      <td>0</td>\n",
              "      <td>0</td>\n",
              "      <td>@securerecs arghh me please  markbradbury_16@h...</td>\n",
              "    </tr>\n",
              "  </tbody>\n",
              "</table>\n",
              "</div>"
            ],
            "text/plain": [
              "                                                 twitts  ...                                             twiits\n",
              "3713  @securerecs arghh me please  markbradbury_16@h...  ...  @securerecs arghh me please  markbradbury_16@h...\n",
              "\n",
              "[1 rows x 12 columns]"
            ]
          },
          "metadata": {
            "tags": []
          },
          "execution_count": 53
        }
      ]
    },
    {
      "cell_type": "code",
      "metadata": {
        "id": "_56amwD6rKmc"
      },
      "source": [
        "import re"
      ],
      "execution_count": 57,
      "outputs": []
    },
    {
      "cell_type": "code",
      "metadata": {
        "id": "lpUxmya5z_-r",
        "colab": {
          "base_uri": "https://localhost:8080/",
          "height": 35
        },
        "outputId": "f24cf959-3304-4b73-af53-9cb1e4fb96a1"
      },
      "source": [
        "data.iloc[3713][\"twitts\"]"
      ],
      "execution_count": 58,
      "outputs": [
        {
          "output_type": "execute_result",
          "data": {
            "application/vnd.google.colaboratory.intrinsic+json": {
              "type": "string"
            },
            "text/plain": [
              "'@securerecs arghh me please  markbradbury_16@hotmail.com'"
            ]
          },
          "metadata": {
            "tags": []
          },
          "execution_count": 58
        }
      ]
    },
    {
      "cell_type": "code",
      "metadata": {
        "id": "NgRODWS10fy6"
      },
      "source": [
        "x=\"@securerecs arghh me please  markbradbury_16@hotmail.com\""
      ],
      "execution_count": 59,
      "outputs": []
    },
    {
      "cell_type": "code",
      "metadata": {
        "id": "1en1hMmMqwdp",
        "outputId": "51c63902-8378-4a16-aa27-68294f84c8e5",
        "colab": {
          "base_uri": "https://localhost:8080/"
        }
      },
      "source": [
        "re.findall(r'([a-z0-9+._-]+@[a-z0-9+._-]+\\.[a-z0-9+_-]+)',x)"
      ],
      "execution_count": 66,
      "outputs": [
        {
          "output_type": "execute_result",
          "data": {
            "text/plain": [
              "['markbradbury_16@hotmail.com']"
            ]
          },
          "metadata": {
            "tags": []
          },
          "execution_count": 66
        }
      ]
    },
    {
      "cell_type": "code",
      "metadata": {
        "id": "s9iW0RK9rHTd"
      },
      "source": [
        "data[\"emails\"]=data[\"twitts\"].apply(lambda x:re.findall(r'([a-z0-9+._-]+@[a-z0-9+._-]+\\.[a-z0-9+_-]+\\b)',x))"
      ],
      "execution_count": 67,
      "outputs": []
    },
    {
      "cell_type": "code",
      "metadata": {
        "id": "r7gmXG6grjvA"
      },
      "source": [
        "data[\"emails_counts\"]=data[\"emails\"].apply(lambda x:len(x))"
      ],
      "execution_count": 68,
      "outputs": []
    },
    {
      "cell_type": "code",
      "metadata": {
        "id": "1YcSNI2wr1AN",
        "outputId": "87187948-e297-43e2-9059-a3a6cd2f34ab",
        "colab": {
          "base_uri": "https://localhost:8080/",
          "height": 135
        }
      },
      "source": [
        "# only on email\n",
        "data[data[\"emails_counts\"]>0]"
      ],
      "execution_count": 69,
      "outputs": [
        {
          "output_type": "execute_result",
          "data": {
            "text/html": [
              "<div>\n",
              "<style scoped>\n",
              "    .dataframe tbody tr th:only-of-type {\n",
              "        vertical-align: middle;\n",
              "    }\n",
              "\n",
              "    .dataframe tbody tr th {\n",
              "        vertical-align: top;\n",
              "    }\n",
              "\n",
              "    .dataframe thead th {\n",
              "        text-align: right;\n",
              "    }\n",
              "</style>\n",
              "<table border=\"1\" class=\"dataframe\">\n",
              "  <thead>\n",
              "    <tr style=\"text-align: right;\">\n",
              "      <th></th>\n",
              "      <th>twitts</th>\n",
              "      <th>sentiment</th>\n",
              "      <th>word_counts</th>\n",
              "      <th>char_count</th>\n",
              "      <th>avg_word_len</th>\n",
              "      <th>stop_word_len</th>\n",
              "      <th>Hashtags_count</th>\n",
              "      <th>mentios_count</th>\n",
              "      <th>mentions_count</th>\n",
              "      <th>numeric_count</th>\n",
              "      <th>upper_word_counts</th>\n",
              "      <th>twiits</th>\n",
              "      <th>emails</th>\n",
              "      <th>emails_counts</th>\n",
              "    </tr>\n",
              "  </thead>\n",
              "  <tbody>\n",
              "    <tr>\n",
              "      <th>3713</th>\n",
              "      <td>@securerecs arghh me please  markbradbury_16@h...</td>\n",
              "      <td>1</td>\n",
              "      <td>5</td>\n",
              "      <td>51</td>\n",
              "      <td>10.2</td>\n",
              "      <td>0</td>\n",
              "      <td>0</td>\n",
              "      <td>1</td>\n",
              "      <td>1</td>\n",
              "      <td>0</td>\n",
              "      <td>0</td>\n",
              "      <td>@securerecs arghh me please  markbradbury_16@h...</td>\n",
              "      <td>[markbradbury_16@hotmail.com]</td>\n",
              "      <td>1</td>\n",
              "    </tr>\n",
              "  </tbody>\n",
              "</table>\n",
              "</div>"
            ],
            "text/plain": [
              "                                                 twitts  ...  emails_counts\n",
              "3713  @securerecs arghh me please  markbradbury_16@h...  ...              1\n",
              "\n",
              "[1 rows x 14 columns]"
            ]
          },
          "metadata": {
            "tags": []
          },
          "execution_count": 69
        }
      ]
    },
    {
      "cell_type": "code",
      "metadata": {
        "id": "YdTascDosA4g",
        "outputId": "741bd33b-6727-464f-f63b-4b0b4a225141",
        "colab": {
          "base_uri": "https://localhost:8080/",
          "height": 35
        }
      },
      "source": [
        "re.sub(r'([a-z0-9+._-]+@[a-z0-9+._-]+\\.[a-z0-9+_-]+)',\"\",x)"
      ],
      "execution_count": 70,
      "outputs": [
        {
          "output_type": "execute_result",
          "data": {
            "application/vnd.google.colaboratory.intrinsic+json": {
              "type": "string"
            },
            "text/plain": [
              "'@securerecs arghh me please  '"
            ]
          },
          "metadata": {
            "tags": []
          },
          "execution_count": 70
        }
      ]
    },
    {
      "cell_type": "code",
      "metadata": {
        "id": "JW-IrCulsLqB"
      },
      "source": [
        "#remove all emails\n",
        "data[\"twitts\"]=data[\"twitts\"].apply(lambda x:re.sub(r'([a-z0-9+._-]+@[a-z0-9+._-]+\\.[a-z0-9+_-]+\\b)',\"\",x))"
      ],
      "execution_count": 72,
      "outputs": []
    },
    {
      "cell_type": "code",
      "metadata": {
        "id": "15DZAmFksfIL",
        "outputId": "0487aa2d-44a8-4717-d646-f5a6623a0144",
        "colab": {
          "base_uri": "https://localhost:8080/",
          "height": 135
        }
      },
      "source": [
        "data[data[\"emails_counts\"]>0]\n",
        "#No emails data"
      ],
      "execution_count": 73,
      "outputs": [
        {
          "output_type": "execute_result",
          "data": {
            "text/html": [
              "<div>\n",
              "<style scoped>\n",
              "    .dataframe tbody tr th:only-of-type {\n",
              "        vertical-align: middle;\n",
              "    }\n",
              "\n",
              "    .dataframe tbody tr th {\n",
              "        vertical-align: top;\n",
              "    }\n",
              "\n",
              "    .dataframe thead th {\n",
              "        text-align: right;\n",
              "    }\n",
              "</style>\n",
              "<table border=\"1\" class=\"dataframe\">\n",
              "  <thead>\n",
              "    <tr style=\"text-align: right;\">\n",
              "      <th></th>\n",
              "      <th>twitts</th>\n",
              "      <th>sentiment</th>\n",
              "      <th>word_counts</th>\n",
              "      <th>char_count</th>\n",
              "      <th>avg_word_len</th>\n",
              "      <th>stop_word_len</th>\n",
              "      <th>Hashtags_count</th>\n",
              "      <th>mentios_count</th>\n",
              "      <th>mentions_count</th>\n",
              "      <th>numeric_count</th>\n",
              "      <th>upper_word_counts</th>\n",
              "      <th>twiits</th>\n",
              "      <th>emails</th>\n",
              "      <th>emails_counts</th>\n",
              "    </tr>\n",
              "  </thead>\n",
              "  <tbody>\n",
              "    <tr>\n",
              "      <th>3713</th>\n",
              "      <td>@securerecs arghh me please</td>\n",
              "      <td>1</td>\n",
              "      <td>5</td>\n",
              "      <td>51</td>\n",
              "      <td>10.2</td>\n",
              "      <td>0</td>\n",
              "      <td>0</td>\n",
              "      <td>1</td>\n",
              "      <td>1</td>\n",
              "      <td>0</td>\n",
              "      <td>0</td>\n",
              "      <td>@securerecs arghh me please  markbradbury_16@h...</td>\n",
              "      <td>[markbradbury_16@hotmail.com]</td>\n",
              "      <td>1</td>\n",
              "    </tr>\n",
              "  </tbody>\n",
              "</table>\n",
              "</div>"
            ],
            "text/plain": [
              "                             twitts  ...  emails_counts\n",
              "3713  @securerecs arghh me please    ...              1\n",
              "\n",
              "[1 rows x 14 columns]"
            ]
          },
          "metadata": {
            "tags": []
          },
          "execution_count": 73
        }
      ]
    },
    {
      "cell_type": "code",
      "metadata": {
        "id": "bTIqX1Jssqce"
      },
      "source": [
        ""
      ],
      "execution_count": null,
      "outputs": []
    }
  ]
}